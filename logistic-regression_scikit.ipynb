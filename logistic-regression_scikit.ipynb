{
 "cells": [
  {
   "cell_type": "code",
   "execution_count": 1,
   "id": "a0621280",
   "metadata": {
    "_cell_guid": "b1076dfc-b9ad-4769-8c92-a6c4dae69d19",
    "_uuid": "8f2839f25d086af736a60e9eeb907d3b93b6e0e5",
    "execution": {
     "iopub.execute_input": "2024-07-09T21:58:30.359602Z",
     "iopub.status.busy": "2024-07-09T21:58:30.358929Z",
     "iopub.status.idle": "2024-07-09T21:58:31.159892Z",
     "shell.execute_reply": "2024-07-09T21:58:31.158768Z"
    },
    "papermill": {
     "duration": 0.817925,
     "end_time": "2024-07-09T21:58:31.162373",
     "exception": false,
     "start_time": "2024-07-09T21:58:30.344448",
     "status": "completed"
    },
    "tags": []
   },
   "outputs": [
    {
     "name": "stdout",
     "output_type": "stream",
     "text": [
      "/kaggle/input/heart-disease-prediction-using-logistic-regression/framingham.csv\n"
     ]
    }
   ],
   "source": [
    "# This Python 3 environment comes with many helpful analytics libraries installed\n",
    "# It is defined by the kaggle/python Docker image: https://github.com/kaggle/docker-python\n",
    "# For example, here's several helpful packages to load\n",
    "\n",
    "import numpy as np # linear algebra\n",
    "import pandas as pd # data processing, CSV file I/O (e.g. pd.read_csv)\n",
    "\n",
    "# Input data files are available in the read-only \"../input/\" directory\n",
    "# For example, running this (by clicking run or pressing Shift+Enter) will list all files under the input directory\n",
    "\n",
    "import os\n",
    "for dirname, _, filenames in os.walk('/kaggle/input'):\n",
    "    for filename in filenames:\n",
    "        print(os.path.join(dirname, filename))\n",
    "\n",
    "# You can write up to 20GB to the current directory (/kaggle/working/) that gets preserved as output when you create a version using \"Save & Run All\" \n",
    "# You can also write temporary files to /kaggle/temp/, but they won't be saved outside of the current session"
   ]
  },
  {
   "cell_type": "markdown",
   "id": "93be12b8",
   "metadata": {
    "papermill": {
     "duration": 0.012239,
     "end_time": "2024-07-09T21:58:31.187156",
     "exception": false,
     "start_time": "2024-07-09T21:58:31.174917",
     "status": "completed"
    },
    "tags": []
   },
   "source": [
    "### IMPORTS"
   ]
  },
  {
   "cell_type": "code",
   "execution_count": 2,
   "id": "f6ddc826",
   "metadata": {
    "execution": {
     "iopub.execute_input": "2024-07-09T21:58:31.213657Z",
     "iopub.status.busy": "2024-07-09T21:58:31.213166Z",
     "iopub.status.idle": "2024-07-09T21:58:32.371643Z",
     "shell.execute_reply": "2024-07-09T21:58:32.370747Z"
    },
    "papermill": {
     "duration": 1.174612,
     "end_time": "2024-07-09T21:58:32.374196",
     "exception": false,
     "start_time": "2024-07-09T21:58:31.199584",
     "status": "completed"
    },
    "tags": []
   },
   "outputs": [],
   "source": [
    "import pandas as pd\n",
    "import numpy as np\n",
    "import matplotlib.pyplot as plt\n",
    "from sklearn.metrics import ConfusionMatrixDisplay\n",
    "from sklearn.model_selection import train_test_split"
   ]
  },
  {
   "cell_type": "code",
   "execution_count": 3,
   "id": "80b94818",
   "metadata": {
    "execution": {
     "iopub.execute_input": "2024-07-09T21:58:32.400975Z",
     "iopub.status.busy": "2024-07-09T21:58:32.400579Z",
     "iopub.status.idle": "2024-07-09T21:58:32.435043Z",
     "shell.execute_reply": "2024-07-09T21:58:32.434030Z"
    },
    "papermill": {
     "duration": 0.050361,
     "end_time": "2024-07-09T21:58:32.437259",
     "exception": false,
     "start_time": "2024-07-09T21:58:32.386898",
     "status": "completed"
    },
    "tags": []
   },
   "outputs": [
    {
     "data": {
      "text/plain": [
       "(4238, 16)"
      ]
     },
     "execution_count": 3,
     "metadata": {},
     "output_type": "execute_result"
    }
   ],
   "source": [
    "data = pd.read_csv(\"/kaggle/input/heart-disease-prediction-using-logistic-regression/framingham.csv\")\n",
    "data.shape"
   ]
  },
  {
   "cell_type": "code",
   "execution_count": 4,
   "id": "c86fb6d9",
   "metadata": {
    "execution": {
     "iopub.execute_input": "2024-07-09T21:58:32.464890Z",
     "iopub.status.busy": "2024-07-09T21:58:32.464491Z",
     "iopub.status.idle": "2024-07-09T21:58:32.472056Z",
     "shell.execute_reply": "2024-07-09T21:58:32.471004Z"
    },
    "papermill": {
     "duration": 0.023851,
     "end_time": "2024-07-09T21:58:32.474312",
     "exception": false,
     "start_time": "2024-07-09T21:58:32.450461",
     "status": "completed"
    },
    "tags": []
   },
   "outputs": [
    {
     "data": {
      "text/plain": [
       "Index(['male', 'age', 'education', 'currentSmoker', 'cigsPerDay', 'BPMeds',\n",
       "       'prevalentStroke', 'prevalentHyp', 'diabetes', 'totChol', 'sysBP',\n",
       "       'diaBP', 'BMI', 'heartRate', 'glucose', 'TenYearCHD'],\n",
       "      dtype='object')"
      ]
     },
     "execution_count": 4,
     "metadata": {},
     "output_type": "execute_result"
    }
   ],
   "source": [
    "data.columns"
   ]
  },
  {
   "cell_type": "code",
   "execution_count": 5,
   "id": "83d97c1c",
   "metadata": {
    "execution": {
     "iopub.execute_input": "2024-07-09T21:58:32.501476Z",
     "iopub.status.busy": "2024-07-09T21:58:32.501110Z",
     "iopub.status.idle": "2024-07-09T21:58:32.521588Z",
     "shell.execute_reply": "2024-07-09T21:58:32.520560Z"
    },
    "papermill": {
     "duration": 0.03665,
     "end_time": "2024-07-09T21:58:32.523775",
     "exception": false,
     "start_time": "2024-07-09T21:58:32.487125",
     "status": "completed"
    },
    "tags": []
   },
   "outputs": [
    {
     "data": {
      "text/plain": [
       "count    4238.000000\n",
       "mean        0.025720\n",
       "std         0.158316\n",
       "min         0.000000\n",
       "25%         0.000000\n",
       "50%         0.000000\n",
       "75%         0.000000\n",
       "max         1.000000\n",
       "Name: diabetes, dtype: float64"
      ]
     },
     "execution_count": 5,
     "metadata": {},
     "output_type": "execute_result"
    }
   ],
   "source": [
    "data.diabetes.describe()"
   ]
  },
  {
   "cell_type": "code",
   "execution_count": 6,
   "id": "4f8c0e26",
   "metadata": {
    "execution": {
     "iopub.execute_input": "2024-07-09T21:58:32.551114Z",
     "iopub.status.busy": "2024-07-09T21:58:32.550711Z",
     "iopub.status.idle": "2024-07-09T21:58:32.573937Z",
     "shell.execute_reply": "2024-07-09T21:58:32.572694Z"
    },
    "papermill": {
     "duration": 0.039701,
     "end_time": "2024-07-09T21:58:32.576407",
     "exception": false,
     "start_time": "2024-07-09T21:58:32.536706",
     "status": "completed"
    },
    "tags": []
   },
   "outputs": [
    {
     "data": {
      "text/html": [
       "<div>\n",
       "<style scoped>\n",
       "    .dataframe tbody tr th:only-of-type {\n",
       "        vertical-align: middle;\n",
       "    }\n",
       "\n",
       "    .dataframe tbody tr th {\n",
       "        vertical-align: top;\n",
       "    }\n",
       "\n",
       "    .dataframe thead th {\n",
       "        text-align: right;\n",
       "    }\n",
       "</style>\n",
       "<table border=\"1\" class=\"dataframe\">\n",
       "  <thead>\n",
       "    <tr style=\"text-align: right;\">\n",
       "      <th></th>\n",
       "      <th>male</th>\n",
       "      <th>age</th>\n",
       "      <th>education</th>\n",
       "      <th>currentSmoker</th>\n",
       "      <th>cigsPerDay</th>\n",
       "      <th>BPMeds</th>\n",
       "      <th>prevalentStroke</th>\n",
       "      <th>prevalentHyp</th>\n",
       "      <th>diabetes</th>\n",
       "      <th>totChol</th>\n",
       "      <th>sysBP</th>\n",
       "      <th>diaBP</th>\n",
       "      <th>BMI</th>\n",
       "      <th>heartRate</th>\n",
       "      <th>glucose</th>\n",
       "      <th>TenYearCHD</th>\n",
       "    </tr>\n",
       "  </thead>\n",
       "  <tbody>\n",
       "    <tr>\n",
       "      <th>0</th>\n",
       "      <td>1</td>\n",
       "      <td>39</td>\n",
       "      <td>4.0</td>\n",
       "      <td>0</td>\n",
       "      <td>0.0</td>\n",
       "      <td>0.0</td>\n",
       "      <td>0</td>\n",
       "      <td>0</td>\n",
       "      <td>0</td>\n",
       "      <td>195.0</td>\n",
       "      <td>106.0</td>\n",
       "      <td>70.0</td>\n",
       "      <td>26.97</td>\n",
       "      <td>80.0</td>\n",
       "      <td>77.0</td>\n",
       "      <td>0</td>\n",
       "    </tr>\n",
       "    <tr>\n",
       "      <th>1</th>\n",
       "      <td>0</td>\n",
       "      <td>46</td>\n",
       "      <td>2.0</td>\n",
       "      <td>0</td>\n",
       "      <td>0.0</td>\n",
       "      <td>0.0</td>\n",
       "      <td>0</td>\n",
       "      <td>0</td>\n",
       "      <td>0</td>\n",
       "      <td>250.0</td>\n",
       "      <td>121.0</td>\n",
       "      <td>81.0</td>\n",
       "      <td>28.73</td>\n",
       "      <td>95.0</td>\n",
       "      <td>76.0</td>\n",
       "      <td>0</td>\n",
       "    </tr>\n",
       "    <tr>\n",
       "      <th>2</th>\n",
       "      <td>1</td>\n",
       "      <td>48</td>\n",
       "      <td>1.0</td>\n",
       "      <td>1</td>\n",
       "      <td>20.0</td>\n",
       "      <td>0.0</td>\n",
       "      <td>0</td>\n",
       "      <td>0</td>\n",
       "      <td>0</td>\n",
       "      <td>245.0</td>\n",
       "      <td>127.5</td>\n",
       "      <td>80.0</td>\n",
       "      <td>25.34</td>\n",
       "      <td>75.0</td>\n",
       "      <td>70.0</td>\n",
       "      <td>0</td>\n",
       "    </tr>\n",
       "    <tr>\n",
       "      <th>3</th>\n",
       "      <td>0</td>\n",
       "      <td>61</td>\n",
       "      <td>3.0</td>\n",
       "      <td>1</td>\n",
       "      <td>30.0</td>\n",
       "      <td>0.0</td>\n",
       "      <td>0</td>\n",
       "      <td>1</td>\n",
       "      <td>0</td>\n",
       "      <td>225.0</td>\n",
       "      <td>150.0</td>\n",
       "      <td>95.0</td>\n",
       "      <td>28.58</td>\n",
       "      <td>65.0</td>\n",
       "      <td>103.0</td>\n",
       "      <td>1</td>\n",
       "    </tr>\n",
       "    <tr>\n",
       "      <th>4</th>\n",
       "      <td>0</td>\n",
       "      <td>46</td>\n",
       "      <td>3.0</td>\n",
       "      <td>1</td>\n",
       "      <td>23.0</td>\n",
       "      <td>0.0</td>\n",
       "      <td>0</td>\n",
       "      <td>0</td>\n",
       "      <td>0</td>\n",
       "      <td>285.0</td>\n",
       "      <td>130.0</td>\n",
       "      <td>84.0</td>\n",
       "      <td>23.10</td>\n",
       "      <td>85.0</td>\n",
       "      <td>85.0</td>\n",
       "      <td>0</td>\n",
       "    </tr>\n",
       "  </tbody>\n",
       "</table>\n",
       "</div>"
      ],
      "text/plain": [
       "   male  age  education  currentSmoker  cigsPerDay  BPMeds  prevalentStroke  \\\n",
       "0     1   39        4.0              0         0.0     0.0                0   \n",
       "1     0   46        2.0              0         0.0     0.0                0   \n",
       "2     1   48        1.0              1        20.0     0.0                0   \n",
       "3     0   61        3.0              1        30.0     0.0                0   \n",
       "4     0   46        3.0              1        23.0     0.0                0   \n",
       "\n",
       "   prevalentHyp  diabetes  totChol  sysBP  diaBP    BMI  heartRate  glucose  \\\n",
       "0             0         0    195.0  106.0   70.0  26.97       80.0     77.0   \n",
       "1             0         0    250.0  121.0   81.0  28.73       95.0     76.0   \n",
       "2             0         0    245.0  127.5   80.0  25.34       75.0     70.0   \n",
       "3             1         0    225.0  150.0   95.0  28.58       65.0    103.0   \n",
       "4             0         0    285.0  130.0   84.0  23.10       85.0     85.0   \n",
       "\n",
       "   TenYearCHD  \n",
       "0           0  \n",
       "1           0  \n",
       "2           0  \n",
       "3           1  \n",
       "4           0  "
      ]
     },
     "execution_count": 6,
     "metadata": {},
     "output_type": "execute_result"
    }
   ],
   "source": [
    "data.head(5)"
   ]
  },
  {
   "cell_type": "markdown",
   "id": "96667c4e",
   "metadata": {
    "papermill": {
     "duration": 0.012932,
     "end_time": "2024-07-09T21:58:32.602684",
     "exception": false,
     "start_time": "2024-07-09T21:58:32.589752",
     "status": "completed"
    },
    "tags": []
   },
   "source": [
    "### DATA CLEANING"
   ]
  },
  {
   "cell_type": "code",
   "execution_count": 7,
   "id": "47e1947b",
   "metadata": {
    "execution": {
     "iopub.execute_input": "2024-07-09T21:58:32.630780Z",
     "iopub.status.busy": "2024-07-09T21:58:32.630412Z",
     "iopub.status.idle": "2024-07-09T21:58:32.638656Z",
     "shell.execute_reply": "2024-07-09T21:58:32.637702Z"
    },
    "papermill": {
     "duration": 0.025084,
     "end_time": "2024-07-09T21:58:32.640811",
     "exception": false,
     "start_time": "2024-07-09T21:58:32.615727",
     "status": "completed"
    },
    "tags": []
   },
   "outputs": [
    {
     "data": {
      "text/plain": [
       "male                 0\n",
       "age                  0\n",
       "education          105\n",
       "currentSmoker        0\n",
       "cigsPerDay          29\n",
       "BPMeds              53\n",
       "prevalentStroke      0\n",
       "prevalentHyp         0\n",
       "diabetes             0\n",
       "totChol             50\n",
       "sysBP                0\n",
       "diaBP                0\n",
       "BMI                 19\n",
       "heartRate            1\n",
       "glucose            388\n",
       "TenYearCHD           0\n",
       "dtype: int64"
      ]
     },
     "execution_count": 7,
     "metadata": {},
     "output_type": "execute_result"
    }
   ],
   "source": [
    "data.isna().sum()"
   ]
  },
  {
   "cell_type": "markdown",
   "id": "503ba8fe",
   "metadata": {
    "papermill": {
     "duration": 0.012946,
     "end_time": "2024-07-09T21:58:32.667084",
     "exception": false,
     "start_time": "2024-07-09T21:58:32.654138",
     "status": "completed"
    },
    "tags": []
   },
   "source": [
    "***CIGARS PER DAY***"
   ]
  },
  {
   "cell_type": "code",
   "execution_count": 8,
   "id": "b735e0f9",
   "metadata": {
    "execution": {
     "iopub.execute_input": "2024-07-09T21:58:32.695586Z",
     "iopub.status.busy": "2024-07-09T21:58:32.695209Z",
     "iopub.status.idle": "2024-07-09T21:58:32.706715Z",
     "shell.execute_reply": "2024-07-09T21:58:32.705479Z"
    },
    "papermill": {
     "duration": 0.028672,
     "end_time": "2024-07-09T21:58:32.709077",
     "exception": false,
     "start_time": "2024-07-09T21:58:32.680405",
     "status": "completed"
    },
    "tags": []
   },
   "outputs": [
    {
     "data": {
      "text/plain": [
       "count    4209.000000\n",
       "mean        9.003089\n",
       "std        11.920094\n",
       "min         0.000000\n",
       "25%         0.000000\n",
       "50%         0.000000\n",
       "75%        20.000000\n",
       "max        70.000000\n",
       "Name: cigsPerDay, dtype: float64"
      ]
     },
     "execution_count": 8,
     "metadata": {},
     "output_type": "execute_result"
    }
   ],
   "source": [
    "data.cigsPerDay.describe()"
   ]
  },
  {
   "cell_type": "code",
   "execution_count": 9,
   "id": "185260fc",
   "metadata": {
    "execution": {
     "iopub.execute_input": "2024-07-09T21:58:32.737924Z",
     "iopub.status.busy": "2024-07-09T21:58:32.737169Z",
     "iopub.status.idle": "2024-07-09T21:58:33.013782Z",
     "shell.execute_reply": "2024-07-09T21:58:33.012774Z"
    },
    "papermill": {
     "duration": 0.293629,
     "end_time": "2024-07-09T21:58:33.016155",
     "exception": false,
     "start_time": "2024-07-09T21:58:32.722526",
     "status": "completed"
    },
    "tags": []
   },
   "outputs": [
    {
     "data": {
      "text/plain": [
       "Text(0, 0.5, 'Count')"
      ]
     },
     "execution_count": 9,
     "metadata": {},
     "output_type": "execute_result"
    },
    {
     "data": {
      "image/png": "[encoded data removed]",
      "text/plain": [
       "<Figure size 640x480 with 1 Axes>"
      ]
     },
     "metadata": {},
     "output_type": "display_data"
    }
   ],
   "source": [
    "plt.hist(data.cigsPerDay,density=False,color=plt.cm.PuRd(200))\n",
    "plt.title(\"No of cigars per day\")\n",
    "plt.ylabel(\"Count\")"
   ]
  },
  {
   "cell_type": "code",
   "execution_count": 10,
   "id": "faf3aae2",
   "metadata": {
    "execution": {
     "iopub.execute_input": "2024-07-09T21:58:33.045225Z",
     "iopub.status.busy": "2024-07-09T21:58:33.044850Z",
     "iopub.status.idle": "2024-07-09T21:58:33.569768Z",
     "shell.execute_reply": "2024-07-09T21:58:33.568650Z"
    },
    "papermill": {
     "duration": 0.542304,
     "end_time": "2024-07-09T21:58:33.572276",
     "exception": false,
     "start_time": "2024-07-09T21:58:33.029972",
     "status": "completed"
    },
    "tags": []
   },
   "outputs": [
    {
     "data": {
      "text/plain": [
       "Text(0, 0.5, 'Count')"
      ]
     },
     "execution_count": 10,
     "metadata": {},
     "output_type": "execute_result"
    },
    {
     "data": {
      "image/png": "[encoded data removed]",
      "text/plain": [
       "<Figure size 800x300 with 2 Axes>"
      ]
     },
     "metadata": {},
     "output_type": "display_data"
    }
   ],
   "source": [
    "fig,axs = plt.subplots(1,2,figsize=(8,3))\n",
    "axs[0].hist(data[data.currentSmoker==1].cigsPerDay,density=False,color=plt.cm.PuRd(200))\n",
    "axs[0].set_title(\"No of cigars per day - Smoker\")\n",
    "axs[0].set_ylabel(\"Count\")\n",
    "axs[1].hist(data[data.currentSmoker==0].cigsPerDay,density=False,color=plt.cm.PuRd(50))\n",
    "axs[1].set_title(\"No of cigars per day - Non Smoker\")\n",
    "axs[1].set_ylabel(\"Count\")"
   ]
  },
  {
   "cell_type": "markdown",
   "id": "976e97f8",
   "metadata": {
    "papermill": {
     "duration": 0.014157,
     "end_time": "2024-07-09T21:58:33.600865",
     "exception": false,
     "start_time": "2024-07-09T21:58:33.586708",
     "status": "completed"
    },
    "tags": []
   },
   "source": [
    "#### SLICING - using loc\n",
    "\n",
    "df.loc[:] = Dataframe\n",
    "\n",
    "df.loc[int] = Dataframe if you have more than one column and Series if you have only 1 column in the dataframe\n",
    "\n",
    "df.loc[:, [\"colname\"]] = Dataframe if you have more than one row and Series if you have only 1 row in the selection\n",
    "\n",
    "df.loc[:, \"colname\"] = Series"
   ]
  },
  {
   "cell_type": "code",
   "execution_count": 11,
   "id": "ae011776",
   "metadata": {
    "execution": {
     "iopub.execute_input": "2024-07-09T21:58:33.631215Z",
     "iopub.status.busy": "2024-07-09T21:58:33.630848Z",
     "iopub.status.idle": "2024-07-09T21:58:33.644833Z",
     "shell.execute_reply": "2024-07-09T21:58:33.643738Z"
    },
    "papermill": {
     "duration": 0.031819,
     "end_time": "2024-07-09T21:58:33.647023",
     "exception": false,
     "start_time": "2024-07-09T21:58:33.615204",
     "status": "completed"
    },
    "tags": []
   },
   "outputs": [
    {
     "name": "stdout",
     "output_type": "stream",
     "text": [
      "currentSmoker\n",
      "0     0\n",
      "1    29\n",
      "Name: cigsPerDay, dtype: int64\n"
     ]
    }
   ],
   "source": [
    "# Handling missing values in \"cigars per day\"\n",
    "# if the person is a current smoker, cigar per day = average cigar per day \n",
    "# if the person is a non current smoker, cigar per day = 0\n",
    "\n",
    "print(data.cigsPerDay.isnull().groupby(by=data.currentSmoker).sum())"
   ]
  },
  {
   "cell_type": "code",
   "execution_count": 12,
   "id": "63a832fb",
   "metadata": {
    "execution": {
     "iopub.execute_input": "2024-07-09T21:58:33.677384Z",
     "iopub.status.busy": "2024-07-09T21:58:33.677001Z",
     "iopub.status.idle": "2024-07-09T21:58:33.688501Z",
     "shell.execute_reply": "2024-07-09T21:58:33.687530Z"
    },
    "papermill": {
     "duration": 0.029377,
     "end_time": "2024-07-09T21:58:33.690694",
     "exception": false,
     "start_time": "2024-07-09T21:58:33.661317",
     "status": "completed"
    },
    "tags": []
   },
   "outputs": [
    {
     "data": {
      "text/plain": [
       "0"
      ]
     },
     "execution_count": 12,
     "metadata": {},
     "output_type": "execute_result"
    }
   ],
   "source": [
    "data.loc[data.cigsPerDay.isnull(),[\"cigsPerDay\"]] = round(data[data.currentSmoker==1].cigsPerDay.mean())\n",
    "data.cigsPerDay.isnull().sum()"
   ]
  },
  {
   "cell_type": "markdown",
   "id": "f84e4fc2",
   "metadata": {
    "papermill": {
     "duration": 0.014067,
     "end_time": "2024-07-09T21:58:33.719621",
     "exception": false,
     "start_time": "2024-07-09T21:58:33.705554",
     "status": "completed"
    },
    "tags": []
   },
   "source": [
    "***BP MEDS***"
   ]
  },
  {
   "cell_type": "code",
   "execution_count": 13,
   "id": "c55c515b",
   "metadata": {
    "execution": {
     "iopub.execute_input": "2024-07-09T21:58:33.749971Z",
     "iopub.status.busy": "2024-07-09T21:58:33.749581Z",
     "iopub.status.idle": "2024-07-09T21:58:33.770552Z",
     "shell.execute_reply": "2024-07-09T21:58:33.769267Z"
    },
    "papermill": {
     "duration": 0.038961,
     "end_time": "2024-07-09T21:58:33.772927",
     "exception": false,
     "start_time": "2024-07-09T21:58:33.733966",
     "status": "completed"
    },
    "tags": []
   },
   "outputs": [
    {
     "name": "stdout",
     "output_type": "stream",
     "text": [
      "BPMeds         0.0  1.0\n",
      "prevalentHyp           \n",
      "0             2891    0\n",
      "1             1170  124\n"
     ]
    }
   ],
   "source": [
    "print(pd.crosstab(data.prevalentHyp[data.BPMeds.notnull()],data.BPMeds[data.BPMeds.notnull()]))"
   ]
  },
  {
   "cell_type": "code",
   "execution_count": 14,
   "id": "5fbeecb1",
   "metadata": {
    "execution": {
     "iopub.execute_input": "2024-07-09T21:58:33.804303Z",
     "iopub.status.busy": "2024-07-09T21:58:33.803905Z",
     "iopub.status.idle": "2024-07-09T21:58:33.813737Z",
     "shell.execute_reply": "2024-07-09T21:58:33.812729Z"
    },
    "papermill": {
     "duration": 0.027879,
     "end_time": "2024-07-09T21:58:33.815892",
     "exception": false,
     "start_time": "2024-07-09T21:58:33.788013",
     "status": "completed"
    },
    "tags": []
   },
   "outputs": [
    {
     "data": {
      "text/plain": [
       "prevalentHyp\n",
       "0    31\n",
       "1    22\n",
       "Name: prevalentHyp, dtype: int64"
      ]
     },
     "execution_count": 14,
     "metadata": {},
     "output_type": "execute_result"
    }
   ],
   "source": [
    "data.prevalentHyp[data.BPMeds.isnull()].groupby(by=data.prevalentHyp).count()"
   ]
  },
  {
   "cell_type": "code",
   "execution_count": 15,
   "id": "044a7410",
   "metadata": {
    "execution": {
     "iopub.execute_input": "2024-07-09T21:58:33.847063Z",
     "iopub.status.busy": "2024-07-09T21:58:33.846673Z",
     "iopub.status.idle": "2024-07-09T21:58:34.413386Z",
     "shell.execute_reply": "2024-07-09T21:58:34.412255Z"
    },
    "papermill": {
     "duration": 0.585221,
     "end_time": "2024-07-09T21:58:34.415841",
     "exception": false,
     "start_time": "2024-07-09T21:58:33.830620",
     "status": "completed"
    },
    "tags": []
   },
   "outputs": [
    {
     "data": {
      "text/plain": [
       "Text(0.5, 0, 'systolic BP')"
      ]
     },
     "execution_count": 15,
     "metadata": {},
     "output_type": "execute_result"
    },
    {
     "data": {
      "image/png": "[encoded data removed]",
      "text/plain": [
       "<Figure size 800x300 with 2 Axes>"
      ]
     },
     "metadata": {},
     "output_type": "display_data"
    }
   ],
   "source": [
    "fig,axs = plt.subplots(1,2,figsize=(8,3))\n",
    "axs[0].scatter(data.sysBP[data.prevalentHyp==0],data.diaBP[data.prevalentHyp==0],c=data.BPMeds[data.prevalentHyp==0])\n",
    "axs[0].set_xlim(70,310)\n",
    "axs[0].set_ylim(45,145)\n",
    "axs[0].set_title(\"Prevalent Hypertension = 0\")\n",
    "axs[0].set_xlabel(\"systolic BP\")\n",
    "axs[0].set_ylabel(\"diastolic BP\")\n",
    "\n",
    "axs[1].scatter(data.sysBP[data.prevalentHyp==1],data.diaBP[data.prevalentHyp==1],c=data.BPMeds[data.prevalentHyp==1])\n",
    "axs[1].set_xlim(70,310)\n",
    "axs[1].set_ylim(45,145)\n",
    "axs[1].set_title(\"Prevalent Hypertension = 1\")\n",
    "axs[1].set_xlabel(\"systolic BP\")"
   ]
  },
  {
   "cell_type": "markdown",
   "id": "99dd4da0",
   "metadata": {
    "papermill": {
     "duration": 0.015395,
     "end_time": "2024-07-09T21:58:34.446830",
     "exception": false,
     "start_time": "2024-07-09T21:58:34.431435",
     "status": "completed"
    },
    "tags": []
   },
   "source": [
    "##### BP Meds cannot be imputed from the existing data - as neither prevalent Hyptension nor BP levels can be used to create assumption on null BP Med values"
   ]
  },
  {
   "cell_type": "code",
   "execution_count": 16,
   "id": "1d92ee05",
   "metadata": {
    "execution": {
     "iopub.execute_input": "2024-07-09T21:58:34.480351Z",
     "iopub.status.busy": "2024-07-09T21:58:34.479299Z",
     "iopub.status.idle": "2024-07-09T21:58:34.485562Z",
     "shell.execute_reply": "2024-07-09T21:58:34.484691Z"
    },
    "papermill": {
     "duration": 0.025234,
     "end_time": "2024-07-09T21:58:34.487704",
     "exception": false,
     "start_time": "2024-07-09T21:58:34.462470",
     "status": "completed"
    },
    "tags": []
   },
   "outputs": [],
   "source": [
    "#Dropping the rows that have null values in BP meds columns (53 rows will be dropped)\n",
    "\n",
    "data = data[data.BPMeds.notnull()]"
   ]
  },
  {
   "cell_type": "markdown",
   "id": "d7198c03",
   "metadata": {
    "papermill": {
     "duration": 0.072364,
     "end_time": "2024-07-09T21:58:34.576037",
     "exception": false,
     "start_time": "2024-07-09T21:58:34.503673",
     "status": "completed"
    },
    "tags": []
   },
   "source": [
    "***Correlation***"
   ]
  },
  {
   "cell_type": "code",
   "execution_count": 17,
   "id": "4f7dcc67",
   "metadata": {
    "execution": {
     "iopub.execute_input": "2024-07-09T21:58:34.609864Z",
     "iopub.status.busy": "2024-07-09T21:58:34.608862Z",
     "iopub.status.idle": "2024-07-09T21:58:34.635916Z",
     "shell.execute_reply": "2024-07-09T21:58:34.634829Z"
    },
    "papermill": {
     "duration": 0.046391,
     "end_time": "2024-07-09T21:58:34.638277",
     "exception": false,
     "start_time": "2024-07-09T21:58:34.591886",
     "status": "completed"
    },
    "tags": []
   },
   "outputs": [
    {
     "data": {
      "text/html": [
       "<div>\n",
       "<style scoped>\n",
       "    .dataframe tbody tr th:only-of-type {\n",
       "        vertical-align: middle;\n",
       "    }\n",
       "\n",
       "    .dataframe tbody tr th {\n",
       "        vertical-align: top;\n",
       "    }\n",
       "\n",
       "    .dataframe thead th {\n",
       "        text-align: right;\n",
       "    }\n",
       "</style>\n",
       "<table border=\"1\" class=\"dataframe\">\n",
       "  <thead>\n",
       "    <tr style=\"text-align: right;\">\n",
       "      <th></th>\n",
       "      <th>age</th>\n",
       "      <th>education</th>\n",
       "      <th>currentSmoker</th>\n",
       "      <th>cigsPerDay</th>\n",
       "      <th>BPMeds</th>\n",
       "      <th>prevalentStroke</th>\n",
       "      <th>prevalentHyp</th>\n",
       "      <th>diabetes</th>\n",
       "      <th>totChol</th>\n",
       "      <th>sysBP</th>\n",
       "      <th>diaBP</th>\n",
       "      <th>BMI</th>\n",
       "      <th>heartRate</th>\n",
       "      <th>glucose</th>\n",
       "      <th>TenYearCHD</th>\n",
       "    </tr>\n",
       "  </thead>\n",
       "  <tbody>\n",
       "    <tr>\n",
       "      <th>age</th>\n",
       "      <td>1.000000</td>\n",
       "      <td>-0.164840</td>\n",
       "      <td>-0.211247</td>\n",
       "      <td>-0.189245</td>\n",
       "      <td>0.122995</td>\n",
       "      <td>0.054065</td>\n",
       "      <td>0.305296</td>\n",
       "      <td>0.102062</td>\n",
       "      <td>0.259827</td>\n",
       "      <td>0.393246</td>\n",
       "      <td>0.208288</td>\n",
       "      <td>0.135224</td>\n",
       "      <td>-0.012284</td>\n",
       "      <td>0.121740</td>\n",
       "      <td>0.223913</td>\n",
       "    </tr>\n",
       "    <tr>\n",
       "      <th>education</th>\n",
       "      <td>-0.164840</td>\n",
       "      <td>1.000000</td>\n",
       "      <td>0.018111</td>\n",
       "      <td>0.008185</td>\n",
       "      <td>-0.010815</td>\n",
       "      <td>-0.033119</td>\n",
       "      <td>-0.082818</td>\n",
       "      <td>-0.036567</td>\n",
       "      <td>-0.022202</td>\n",
       "      <td>-0.130851</td>\n",
       "      <td>-0.065582</td>\n",
       "      <td>-0.136526</td>\n",
       "      <td>-0.055059</td>\n",
       "      <td>-0.034207</td>\n",
       "      <td>-0.054986</td>\n",
       "    </tr>\n",
       "    <tr>\n",
       "      <th>currentSmoker</th>\n",
       "      <td>-0.211247</td>\n",
       "      <td>0.018111</td>\n",
       "      <td>1.000000</td>\n",
       "      <td>0.770699</td>\n",
       "      <td>-0.048938</td>\n",
       "      <td>-0.030866</td>\n",
       "      <td>-0.100672</td>\n",
       "      <td>-0.042240</td>\n",
       "      <td>-0.045805</td>\n",
       "      <td>-0.126497</td>\n",
       "      <td>-0.104615</td>\n",
       "      <td>-0.168864</td>\n",
       "      <td>0.062707</td>\n",
       "      <td>-0.054428</td>\n",
       "      <td>0.021011</td>\n",
       "    </tr>\n",
       "    <tr>\n",
       "      <th>cigsPerDay</th>\n",
       "      <td>-0.189245</td>\n",
       "      <td>0.008185</td>\n",
       "      <td>0.770699</td>\n",
       "      <td>1.000000</td>\n",
       "      <td>-0.046953</td>\n",
       "      <td>-0.031603</td>\n",
       "      <td>-0.063936</td>\n",
       "      <td>-0.036279</td>\n",
       "      <td>-0.024672</td>\n",
       "      <td>-0.086001</td>\n",
       "      <td>-0.053251</td>\n",
       "      <td>-0.090107</td>\n",
       "      <td>0.073926</td>\n",
       "      <td>-0.055510</td>\n",
       "      <td>0.057560</td>\n",
       "    </tr>\n",
       "    <tr>\n",
       "      <th>BPMeds</th>\n",
       "      <td>0.122995</td>\n",
       "      <td>-0.010815</td>\n",
       "      <td>-0.048938</td>\n",
       "      <td>-0.046953</td>\n",
       "      <td>1.000000</td>\n",
       "      <td>0.117365</td>\n",
       "      <td>0.261187</td>\n",
       "      <td>0.052047</td>\n",
       "      <td>0.080558</td>\n",
       "      <td>0.254219</td>\n",
       "      <td>0.194227</td>\n",
       "      <td>0.100668</td>\n",
       "      <td>0.015233</td>\n",
       "      <td>0.051176</td>\n",
       "      <td>0.087489</td>\n",
       "    </tr>\n",
       "    <tr>\n",
       "      <th>prevalentStroke</th>\n",
       "      <td>0.054065</td>\n",
       "      <td>-0.033119</td>\n",
       "      <td>-0.030866</td>\n",
       "      <td>-0.031603</td>\n",
       "      <td>0.117365</td>\n",
       "      <td>1.000000</td>\n",
       "      <td>0.072436</td>\n",
       "      <td>0.007746</td>\n",
       "      <td>-0.003664</td>\n",
       "      <td>0.057222</td>\n",
       "      <td>0.051611</td>\n",
       "      <td>0.030181</td>\n",
       "      <td>-0.013400</td>\n",
       "      <td>0.010006</td>\n",
       "      <td>0.056258</td>\n",
       "    </tr>\n",
       "    <tr>\n",
       "      <th>prevalentHyp</th>\n",
       "      <td>0.305296</td>\n",
       "      <td>-0.082818</td>\n",
       "      <td>-0.100672</td>\n",
       "      <td>-0.063936</td>\n",
       "      <td>0.261187</td>\n",
       "      <td>0.072436</td>\n",
       "      <td>1.000000</td>\n",
       "      <td>0.078338</td>\n",
       "      <td>0.161667</td>\n",
       "      <td>0.695816</td>\n",
       "      <td>0.617078</td>\n",
       "      <td>0.303532</td>\n",
       "      <td>0.147402</td>\n",
       "      <td>0.086677</td>\n",
       "      <td>0.176445</td>\n",
       "    </tr>\n",
       "    <tr>\n",
       "      <th>diabetes</th>\n",
       "      <td>0.102062</td>\n",
       "      <td>-0.036567</td>\n",
       "      <td>-0.042240</td>\n",
       "      <td>-0.036279</td>\n",
       "      <td>0.052047</td>\n",
       "      <td>0.007746</td>\n",
       "      <td>0.078338</td>\n",
       "      <td>1.000000</td>\n",
       "      <td>0.043945</td>\n",
       "      <td>0.109452</td>\n",
       "      <td>0.051571</td>\n",
       "      <td>0.083575</td>\n",
       "      <td>0.050515</td>\n",
       "      <td>0.619000</td>\n",
       "      <td>0.096400</td>\n",
       "    </tr>\n",
       "    <tr>\n",
       "      <th>totChol</th>\n",
       "      <td>0.259827</td>\n",
       "      <td>-0.022202</td>\n",
       "      <td>-0.045805</td>\n",
       "      <td>-0.024672</td>\n",
       "      <td>0.080558</td>\n",
       "      <td>-0.003664</td>\n",
       "      <td>0.161667</td>\n",
       "      <td>0.043945</td>\n",
       "      <td>1.000000</td>\n",
       "      <td>0.209684</td>\n",
       "      <td>0.166807</td>\n",
       "      <td>0.120918</td>\n",
       "      <td>0.091907</td>\n",
       "      <td>0.046629</td>\n",
       "      <td>0.076440</td>\n",
       "    </tr>\n",
       "    <tr>\n",
       "      <th>sysBP</th>\n",
       "      <td>0.393246</td>\n",
       "      <td>-0.130851</td>\n",
       "      <td>-0.126497</td>\n",
       "      <td>-0.086001</td>\n",
       "      <td>0.254219</td>\n",
       "      <td>0.057222</td>\n",
       "      <td>0.695816</td>\n",
       "      <td>0.109452</td>\n",
       "      <td>0.209684</td>\n",
       "      <td>1.000000</td>\n",
       "      <td>0.784612</td>\n",
       "      <td>0.329535</td>\n",
       "      <td>0.181225</td>\n",
       "      <td>0.140621</td>\n",
       "      <td>0.216276</td>\n",
       "    </tr>\n",
       "    <tr>\n",
       "      <th>diaBP</th>\n",
       "      <td>0.208288</td>\n",
       "      <td>-0.065582</td>\n",
       "      <td>-0.104615</td>\n",
       "      <td>-0.053251</td>\n",
       "      <td>0.194227</td>\n",
       "      <td>0.051611</td>\n",
       "      <td>0.617078</td>\n",
       "      <td>0.051571</td>\n",
       "      <td>0.166807</td>\n",
       "      <td>0.784612</td>\n",
       "      <td>1.000000</td>\n",
       "      <td>0.381161</td>\n",
       "      <td>0.179534</td>\n",
       "      <td>0.062803</td>\n",
       "      <td>0.147372</td>\n",
       "    </tr>\n",
       "    <tr>\n",
       "      <th>BMI</th>\n",
       "      <td>0.135224</td>\n",
       "      <td>-0.136526</td>\n",
       "      <td>-0.168864</td>\n",
       "      <td>-0.090107</td>\n",
       "      <td>0.100668</td>\n",
       "      <td>0.030181</td>\n",
       "      <td>0.303532</td>\n",
       "      <td>0.083575</td>\n",
       "      <td>0.120918</td>\n",
       "      <td>0.329535</td>\n",
       "      <td>0.381161</td>\n",
       "      <td>1.000000</td>\n",
       "      <td>0.067291</td>\n",
       "      <td>0.086669</td>\n",
       "      <td>0.077608</td>\n",
       "    </tr>\n",
       "    <tr>\n",
       "      <th>heartRate</th>\n",
       "      <td>-0.012284</td>\n",
       "      <td>-0.055059</td>\n",
       "      <td>0.062707</td>\n",
       "      <td>0.073926</td>\n",
       "      <td>0.015233</td>\n",
       "      <td>-0.013400</td>\n",
       "      <td>0.147402</td>\n",
       "      <td>0.050515</td>\n",
       "      <td>0.091907</td>\n",
       "      <td>0.181225</td>\n",
       "      <td>0.179534</td>\n",
       "      <td>0.067291</td>\n",
       "      <td>1.000000</td>\n",
       "      <td>0.096785</td>\n",
       "      <td>0.024137</td>\n",
       "    </tr>\n",
       "    <tr>\n",
       "      <th>glucose</th>\n",
       "      <td>0.121740</td>\n",
       "      <td>-0.034207</td>\n",
       "      <td>-0.054428</td>\n",
       "      <td>-0.055510</td>\n",
       "      <td>0.051176</td>\n",
       "      <td>0.010006</td>\n",
       "      <td>0.086677</td>\n",
       "      <td>0.619000</td>\n",
       "      <td>0.046629</td>\n",
       "      <td>0.140621</td>\n",
       "      <td>0.062803</td>\n",
       "      <td>0.086669</td>\n",
       "      <td>0.096785</td>\n",
       "      <td>1.000000</td>\n",
       "      <td>0.124385</td>\n",
       "    </tr>\n",
       "    <tr>\n",
       "      <th>TenYearCHD</th>\n",
       "      <td>0.223913</td>\n",
       "      <td>-0.054986</td>\n",
       "      <td>0.021011</td>\n",
       "      <td>0.057560</td>\n",
       "      <td>0.087489</td>\n",
       "      <td>0.056258</td>\n",
       "      <td>0.176445</td>\n",
       "      <td>0.096400</td>\n",
       "      <td>0.076440</td>\n",
       "      <td>0.216276</td>\n",
       "      <td>0.147372</td>\n",
       "      <td>0.077608</td>\n",
       "      <td>0.024137</td>\n",
       "      <td>0.124385</td>\n",
       "      <td>1.000000</td>\n",
       "    </tr>\n",
       "  </tbody>\n",
       "</table>\n",
       "</div>"
      ],
      "text/plain": [
       "                      age  education  currentSmoker  cigsPerDay    BPMeds  \\\n",
       "age              1.000000  -0.164840      -0.211247   -0.189245  0.122995   \n",
       "education       -0.164840   1.000000       0.018111    0.008185 -0.010815   \n",
       "currentSmoker   -0.211247   0.018111       1.000000    0.770699 -0.048938   \n",
       "cigsPerDay      -0.189245   0.008185       0.770699    1.000000 -0.046953   \n",
       "BPMeds           0.122995  -0.010815      -0.048938   -0.046953  1.000000   \n",
       "prevalentStroke  0.054065  -0.033119      -0.030866   -0.031603  0.117365   \n",
       "prevalentHyp     0.305296  -0.082818      -0.100672   -0.063936  0.261187   \n",
       "diabetes         0.102062  -0.036567      -0.042240   -0.036279  0.052047   \n",
       "totChol          0.259827  -0.022202      -0.045805   -0.024672  0.080558   \n",
       "sysBP            0.393246  -0.130851      -0.126497   -0.086001  0.254219   \n",
       "diaBP            0.208288  -0.065582      -0.104615   -0.053251  0.194227   \n",
       "BMI              0.135224  -0.136526      -0.168864   -0.090107  0.100668   \n",
       "heartRate       -0.012284  -0.055059       0.062707    0.073926  0.015233   \n",
       "glucose          0.121740  -0.034207      -0.054428   -0.055510  0.051176   \n",
       "TenYearCHD       0.223913  -0.054986       0.021011    0.057560  0.087489   \n",
       "\n",
       "                 prevalentStroke  prevalentHyp  diabetes   totChol     sysBP  \\\n",
       "age                     0.054065      0.305296  0.102062  0.259827  0.393246   \n",
       "education              -0.033119     -0.082818 -0.036567 -0.022202 -0.130851   \n",
       "currentSmoker          -0.030866     -0.100672 -0.042240 -0.045805 -0.126497   \n",
       "cigsPerDay             -0.031603     -0.063936 -0.036279 -0.024672 -0.086001   \n",
       "BPMeds                  0.117365      0.261187  0.052047  0.080558  0.254219   \n",
       "prevalentStroke         1.000000      0.072436  0.007746 -0.003664  0.057222   \n",
       "prevalentHyp            0.072436      1.000000  0.078338  0.161667  0.695816   \n",
       "diabetes                0.007746      0.078338  1.000000  0.043945  0.109452   \n",
       "totChol                -0.003664      0.161667  0.043945  1.000000  0.209684   \n",
       "sysBP                   0.057222      0.695816  0.109452  0.209684  1.000000   \n",
       "diaBP                   0.051611      0.617078  0.051571  0.166807  0.784612   \n",
       "BMI                     0.030181      0.303532  0.083575  0.120918  0.329535   \n",
       "heartRate              -0.013400      0.147402  0.050515  0.091907  0.181225   \n",
       "glucose                 0.010006      0.086677  0.619000  0.046629  0.140621   \n",
       "TenYearCHD              0.056258      0.176445  0.096400  0.076440  0.216276   \n",
       "\n",
       "                    diaBP       BMI  heartRate   glucose  TenYearCHD  \n",
       "age              0.208288  0.135224  -0.012284  0.121740    0.223913  \n",
       "education       -0.065582 -0.136526  -0.055059 -0.034207   -0.054986  \n",
       "currentSmoker   -0.104615 -0.168864   0.062707 -0.054428    0.021011  \n",
       "cigsPerDay      -0.053251 -0.090107   0.073926 -0.055510    0.057560  \n",
       "BPMeds           0.194227  0.100668   0.015233  0.051176    0.087489  \n",
       "prevalentStroke  0.051611  0.030181  -0.013400  0.010006    0.056258  \n",
       "prevalentHyp     0.617078  0.303532   0.147402  0.086677    0.176445  \n",
       "diabetes         0.051571  0.083575   0.050515  0.619000    0.096400  \n",
       "totChol          0.166807  0.120918   0.091907  0.046629    0.076440  \n",
       "sysBP            0.784612  0.329535   0.181225  0.140621    0.216276  \n",
       "diaBP            1.000000  0.381161   0.179534  0.062803    0.147372  \n",
       "BMI              0.381161  1.000000   0.067291  0.086669    0.077608  \n",
       "heartRate        0.179534  0.067291   1.000000  0.096785    0.024137  \n",
       "glucose          0.062803  0.086669   0.096785  1.000000    0.124385  \n",
       "TenYearCHD       0.147372  0.077608   0.024137  0.124385    1.000000  "
      ]
     },
     "execution_count": 17,
     "metadata": {},
     "output_type": "execute_result"
    }
   ],
   "source": [
    "data.iloc[:,1:].corr()"
   ]
  },
  {
   "cell_type": "markdown",
   "id": "4ff145c4",
   "metadata": {
    "papermill": {
     "duration": 0.016029,
     "end_time": "2024-07-09T21:58:34.670622",
     "exception": false,
     "start_time": "2024-07-09T21:58:34.654593",
     "status": "completed"
    },
    "tags": []
   },
   "source": [
    "***GLUCOSE LEVEL***"
   ]
  },
  {
   "cell_type": "code",
   "execution_count": 18,
   "id": "419a7ec9",
   "metadata": {
    "execution": {
     "iopub.execute_input": "2024-07-09T21:58:34.704641Z",
     "iopub.status.busy": "2024-07-09T21:58:34.704274Z",
     "iopub.status.idle": "2024-07-09T21:58:35.129283Z",
     "shell.execute_reply": "2024-07-09T21:58:35.128198Z"
    },
    "papermill": {
     "duration": 0.444996,
     "end_time": "2024-07-09T21:58:35.131692",
     "exception": false,
     "start_time": "2024-07-09T21:58:34.686696",
     "status": "completed"
    },
    "tags": []
   },
   "outputs": [
    {
     "name": "stdout",
     "output_type": "stream",
     "text": [
      "\t\tMean glucose=79\t\t\t\tMean glucose=171\n",
      "\t\tMedian glucose=78\t\t\tMedian glucose=147\n"
     ]
    },
    {
     "data": {
      "image/png": "[encoded data removed]",
      "text/plain": [
       "<Figure size 800x300 with 2 Axes>"
      ]
     },
     "metadata": {},
     "output_type": "display_data"
    }
   ],
   "source": [
    "gluc_mu = [data.glucose[data.diabetes==0].mean(),data.glucose[data.diabetes==1].mean()]\n",
    "gluc_med = [data.glucose[data.diabetes==0].median(),data.glucose[data.diabetes==1].median()]\n",
    "print(f\"\\t\\tMean glucose={gluc_mu[0]:.0f}\",end=\"\\t\")\n",
    "print(f\"\\t\\t\\tMean glucose={gluc_mu[1]:.0f}\")\n",
    "print(f\"\\t\\tMedian glucose={gluc_med[0]:.0f}\",end=\"\\t\")\n",
    "print(f\"\\t\\tMedian glucose={gluc_med[1]:.0f}\")\n",
    "fig,axs = plt.subplots(1,2,figsize=(8,3))\n",
    "axs[0].hist(data.glucose[data.diabetes==0],density=False,bins=20)\n",
    "axs[0].set_title(\"Diabetes = 0\")\n",
    "axs[0].set_xlabel(\"Glucose level\")\n",
    "axs[0].vlines(gluc_mu[0],0,900,colors=\"red\")\n",
    "\n",
    "axs[1].hist(data.glucose[data.diabetes==1],density=False, bins=20)\n",
    "axs[1].set_title(\"Diabetes = 1\")\n",
    "axs[1].set_xlabel(\"Glucose level\")\n",
    "axs[1].vlines(gluc_mu[1],0,15,colors=\"red\")\n",
    "\n",
    "plt.show()"
   ]
  },
  {
   "cell_type": "markdown",
   "id": "b1cc98b9",
   "metadata": {
    "papermill": {
     "duration": 0.016707,
     "end_time": "2024-07-09T21:58:35.165945",
     "exception": false,
     "start_time": "2024-07-09T21:58:35.149238",
     "status": "completed"
    },
    "tags": []
   },
   "source": [
    "##### Glucose level distribution is right skewed when diabetes is 1. Mean will be pulled towards the tail. \n",
    "##### Median glucose level of two categories (categories: Diabetes=0/Diabetes=1) can be used for handling null value in Glucose level"
   ]
  },
  {
   "cell_type": "code",
   "execution_count": 19,
   "id": "02168dff",
   "metadata": {
    "execution": {
     "iopub.execute_input": "2024-07-09T21:58:35.201181Z",
     "iopub.status.busy": "2024-07-09T21:58:35.200748Z",
     "iopub.status.idle": "2024-07-09T21:58:35.215648Z",
     "shell.execute_reply": "2024-07-09T21:58:35.214632Z"
    },
    "papermill": {
     "duration": 0.035602,
     "end_time": "2024-07-09T21:58:35.218098",
     "exception": false,
     "start_time": "2024-07-09T21:58:35.182496",
     "status": "completed"
    },
    "tags": []
   },
   "outputs": [
    {
     "name": "stdout",
     "output_type": "stream",
     "text": [
      "Null data split by diabetes group\n"
     ]
    },
    {
     "data": {
      "text/html": [
       "<div>\n",
       "<style scoped>\n",
       "    .dataframe tbody tr th:only-of-type {\n",
       "        vertical-align: middle;\n",
       "    }\n",
       "\n",
       "    .dataframe tbody tr th {\n",
       "        vertical-align: top;\n",
       "    }\n",
       "\n",
       "    .dataframe thead th {\n",
       "        text-align: right;\n",
       "    }\n",
       "</style>\n",
       "<table border=\"1\" class=\"dataframe\">\n",
       "  <thead>\n",
       "    <tr style=\"text-align: right;\">\n",
       "      <th></th>\n",
       "      <th>glucose</th>\n",
       "      <th>diabetes</th>\n",
       "    </tr>\n",
       "    <tr>\n",
       "      <th>diabetes</th>\n",
       "      <th></th>\n",
       "      <th></th>\n",
       "    </tr>\n",
       "  </thead>\n",
       "  <tbody>\n",
       "    <tr>\n",
       "      <th>0</th>\n",
       "      <td>0</td>\n",
       "      <td>382</td>\n",
       "    </tr>\n",
       "    <tr>\n",
       "      <th>1</th>\n",
       "      <td>0</td>\n",
       "      <td>4</td>\n",
       "    </tr>\n",
       "  </tbody>\n",
       "</table>\n",
       "</div>"
      ],
      "text/plain": [
       "          glucose  diabetes\n",
       "diabetes                   \n",
       "0               0       382\n",
       "1               0         4"
      ]
     },
     "execution_count": 19,
     "metadata": {},
     "output_type": "execute_result"
    }
   ],
   "source": [
    "idx = data[data.glucose.isnull()].index\n",
    "temp = data.loc[idx,[\"glucose\",\"diabetes\"]]\n",
    "print(\"Null data split by diabetes group\")\n",
    "temp.groupby(by=data.diabetes).count()"
   ]
  },
  {
   "cell_type": "code",
   "execution_count": 20,
   "id": "3c7d3760",
   "metadata": {
    "execution": {
     "iopub.execute_input": "2024-07-09T21:58:35.253451Z",
     "iopub.status.busy": "2024-07-09T21:58:35.253087Z",
     "iopub.status.idle": "2024-07-09T21:58:35.263430Z",
     "shell.execute_reply": "2024-07-09T21:58:35.262287Z"
    },
    "papermill": {
     "duration": 0.03068,
     "end_time": "2024-07-09T21:58:35.265672",
     "exception": false,
     "start_time": "2024-07-09T21:58:35.234992",
     "status": "completed"
    },
    "tags": []
   },
   "outputs": [],
   "source": [
    "#Imputing the null values with median\n",
    "\n",
    "data.loc[(data.glucose.isnull())&(data.diabetes==1),[\"glucose\"]] = gluc_med[1]\n",
    "data.loc[(data.glucose.isnull())&(data.diabetes==0),[\"glucose\"]] = gluc_med[0]"
   ]
  },
  {
   "cell_type": "code",
   "execution_count": 21,
   "id": "ca5ef570",
   "metadata": {
    "execution": {
     "iopub.execute_input": "2024-07-09T21:58:35.302356Z",
     "iopub.status.busy": "2024-07-09T21:58:35.301334Z",
     "iopub.status.idle": "2024-07-09T21:58:35.316807Z",
     "shell.execute_reply": "2024-07-09T21:58:35.315828Z"
    },
    "papermill": {
     "duration": 0.036004,
     "end_time": "2024-07-09T21:58:35.318815",
     "exception": false,
     "start_time": "2024-07-09T21:58:35.282811",
     "status": "completed"
    },
    "tags": []
   },
   "outputs": [
    {
     "name": "stdout",
     "output_type": "stream",
     "text": [
      "data split by diabetes group\n"
     ]
    },
    {
     "data": {
      "text/html": [
       "<div>\n",
       "<style scoped>\n",
       "    .dataframe tbody tr th:only-of-type {\n",
       "        vertical-align: middle;\n",
       "    }\n",
       "\n",
       "    .dataframe tbody tr th {\n",
       "        vertical-align: top;\n",
       "    }\n",
       "\n",
       "    .dataframe thead th {\n",
       "        text-align: right;\n",
       "    }\n",
       "</style>\n",
       "<table border=\"1\" class=\"dataframe\">\n",
       "  <thead>\n",
       "    <tr style=\"text-align: right;\">\n",
       "      <th></th>\n",
       "      <th>glucose</th>\n",
       "      <th>diabetes</th>\n",
       "    </tr>\n",
       "    <tr>\n",
       "      <th>diabetes</th>\n",
       "      <th></th>\n",
       "      <th></th>\n",
       "    </tr>\n",
       "  </thead>\n",
       "  <tbody>\n",
       "    <tr>\n",
       "      <th>0</th>\n",
       "      <td>78.0</td>\n",
       "      <td>0.0</td>\n",
       "    </tr>\n",
       "    <tr>\n",
       "      <th>1</th>\n",
       "      <td>147.0</td>\n",
       "      <td>1.0</td>\n",
       "    </tr>\n",
       "  </tbody>\n",
       "</table>\n",
       "</div>"
      ],
      "text/plain": [
       "          glucose  diabetes\n",
       "diabetes                   \n",
       "0            78.0       0.0\n",
       "1           147.0       1.0"
      ]
     },
     "execution_count": 21,
     "metadata": {},
     "output_type": "execute_result"
    }
   ],
   "source": [
    "temp = data.loc[idx,[\"glucose\",\"diabetes\"]]\n",
    "print(\"data split by diabetes group\")\n",
    "temp.groupby(by=data.diabetes).median()"
   ]
  },
  {
   "cell_type": "markdown",
   "id": "96760f87",
   "metadata": {
    "papermill": {
     "duration": 0.016807,
     "end_time": "2024-07-09T21:58:35.352589",
     "exception": false,
     "start_time": "2024-07-09T21:58:35.335782",
     "status": "completed"
    },
    "tags": []
   },
   "source": [
    "***BMI***"
   ]
  },
  {
   "cell_type": "markdown",
   "id": "c96df539",
   "metadata": {
    "papermill": {
     "duration": 0.017509,
     "end_time": "2024-07-09T21:58:35.387609",
     "exception": false,
     "start_time": "2024-07-09T21:58:35.370100",
     "status": "completed"
    },
    "tags": []
   },
   "source": [
    "**BMI\tWeight Status**  \n",
    "Below 18.5   -> Underweight  \n",
    "18.5 – 24.9  -> Healthy Weight  \n",
    "25.0 – 29.9  -> Overweight  \n",
    "30.0 & Above -> Obesity  \n",
    "\n",
    "Reference: https://www.cdc.gov/healthyweight/assessing/bmi/adult_bmi/index.html"
   ]
  },
  {
   "cell_type": "code",
   "execution_count": 22,
   "id": "5562b92d",
   "metadata": {
    "execution": {
     "iopub.execute_input": "2024-07-09T21:58:35.424132Z",
     "iopub.status.busy": "2024-07-09T21:58:35.423414Z",
     "iopub.status.idle": "2024-07-09T21:58:35.598381Z",
     "shell.execute_reply": "2024-07-09T21:58:35.597108Z"
    },
    "papermill": {
     "duration": 0.195873,
     "end_time": "2024-07-09T21:58:35.600990",
     "exception": false,
     "start_time": "2024-07-09T21:58:35.405117",
     "status": "completed"
    },
    "tags": []
   },
   "outputs": [],
   "source": [
    "dk = data[data.prevalentHyp==0]\n",
    "bmi_group0 = [0 if dk.BMI.iloc[i] <= 18.5 else 1 if 18.5<=dk.BMI.iloc[i] <=24.9 else 2 if 25.0<= dk.BMI.iloc[i]<=29.9 else 3 for i in range(len(dk))]\n",
    "dj = data[data.prevalentHyp==1]\n",
    "bmi_group1 = [0 if dj.BMI.iloc[i] <= 18.5 else 1 if 18.5<=dj.BMI.iloc[i] <=24.9 else 2 if 25.0<= dj.BMI.iloc[i]<=29.9 else 3 for i in range(len(dj))]"
   ]
  },
  {
   "cell_type": "code",
   "execution_count": 23,
   "id": "601b29d9",
   "metadata": {
    "execution": {
     "iopub.execute_input": "2024-07-09T21:58:35.637714Z",
     "iopub.status.busy": "2024-07-09T21:58:35.636812Z",
     "iopub.status.idle": "2024-07-09T21:58:36.291887Z",
     "shell.execute_reply": "2024-07-09T21:58:36.290846Z"
    },
    "papermill": {
     "duration": 0.675728,
     "end_time": "2024-07-09T21:58:36.294067",
     "exception": false,
     "start_time": "2024-07-09T21:58:35.618339",
     "status": "completed"
    },
    "tags": []
   },
   "outputs": [
    {
     "data": {
      "image/png": "[encoded data removed]",
      "text/plain": [
       "<Figure size 800x300 with 2 Axes>"
      ]
     },
     "metadata": {},
     "output_type": "display_data"
    }
   ],
   "source": [
    "fig,axs = plt.subplots(1,2,figsize=(8,3))\n",
    "sc0 = axs[0].scatter(data.sysBP[data.prevalentHyp==0],data.diaBP[data.prevalentHyp==0],c=bmi_group0)\n",
    "axs[0].set_xlim(70,310)\n",
    "axs[0].set_ylim(45,145)\n",
    "axs[0].set_title(\"Prevalent Hypertension = 0\")\n",
    "axs[0].set_xlabel(\"systolic BP\")\n",
    "axs[0].set_ylabel(\"diastolic BP\")\n",
    "\n",
    "axs[0].legend(*sc0.legend_elements())\n",
    "\n",
    "sc1 = axs[1].scatter(data.sysBP[data.prevalentHyp==1],data.diaBP[data.prevalentHyp==1],c=bmi_group1)\n",
    "axs[1].set_xlim(70,310)\n",
    "axs[1].set_ylim(45,145)\n",
    "axs[1].set_title(\"Prevalent Hypertension = 1\")\n",
    "axs[1].set_xlabel(\"systolic BP\")\n",
    "\n",
    "axs[1].legend(*sc1.legend_elements())\n",
    "\n",
    "plt.show()"
   ]
  },
  {
   "cell_type": "code",
   "execution_count": 24,
   "id": "8b8cb8cf",
   "metadata": {
    "execution": {
     "iopub.execute_input": "2024-07-09T21:58:36.332692Z",
     "iopub.status.busy": "2024-07-09T21:58:36.332322Z",
     "iopub.status.idle": "2024-07-09T21:58:36.749525Z",
     "shell.execute_reply": "2024-07-09T21:58:36.748399Z"
    },
    "papermill": {
     "duration": 0.439419,
     "end_time": "2024-07-09T21:58:36.751834",
     "exception": false,
     "start_time": "2024-07-09T21:58:36.312415",
     "status": "completed"
    },
    "tags": []
   },
   "outputs": [
    {
     "name": "stdout",
     "output_type": "stream",
     "text": [
      "\tMean BMI :25\t\t\t\tMean BMI :28\n"
     ]
    },
    {
     "data": {
      "text/plain": [
       "Text(0.5, 1.0, 'Prevalent Hypertension=1')"
      ]
     },
     "execution_count": 24,
     "metadata": {},
     "output_type": "execute_result"
    },
    {
     "data": {
      "image/png": "[encoded data removed]",
      "text/plain": [
       "<Figure size 800x300 with 2 Axes>"
      ]
     },
     "metadata": {},
     "output_type": "display_data"
    }
   ],
   "source": [
    "bmi_mu = [data[data.prevalentHyp==0].BMI.mean(),data[data.prevalentHyp==1].BMI.mean()]\n",
    "print(f\"\\tMean BMI :{bmi_mu[0]:.0f}\",end=\"\\t\")\n",
    "print(f\"\\t\\t\\tMean BMI :{bmi_mu[1]:.0f}\")\n",
    "\n",
    "fig,axs = plt.subplots(1,2,figsize=(8,3))\n",
    "axs[0].hist(data[data.prevalentHyp==0].BMI)\n",
    "axs[0].set_title(\"Prevalent Hypertension=0\")\n",
    "\n",
    "axs[1].hist(data[data.prevalentHyp==1].BMI)\n",
    "axs[1].set_title(\"Prevalent Hypertension=1\")\n"
   ]
  },
  {
   "cell_type": "code",
   "execution_count": 25,
   "id": "0f42d4ac",
   "metadata": {
    "execution": {
     "iopub.execute_input": "2024-07-09T21:58:36.791066Z",
     "iopub.status.busy": "2024-07-09T21:58:36.790675Z",
     "iopub.status.idle": "2024-07-09T21:58:36.800897Z",
     "shell.execute_reply": "2024-07-09T21:58:36.799801Z"
    },
    "papermill": {
     "duration": 0.032429,
     "end_time": "2024-07-09T21:58:36.803053",
     "exception": false,
     "start_time": "2024-07-09T21:58:36.770624",
     "status": "completed"
    },
    "tags": []
   },
   "outputs": [],
   "source": [
    "#Imputing the null values with Mean BMI\n",
    "\n",
    "data.loc[(data.BMI.isnull())&(data.prevalentHyp==0),[\"BMI\"]] = bmi_mu[0]\n",
    "data.loc[(data.BMI.isnull())&(data.prevalentHyp==1),[\"BMI\"]] = bmi_mu[1]"
   ]
  },
  {
   "cell_type": "markdown",
   "id": "b7402975",
   "metadata": {
    "papermill": {
     "duration": 0.01838,
     "end_time": "2024-07-09T21:58:36.840292",
     "exception": false,
     "start_time": "2024-07-09T21:58:36.821912",
     "status": "completed"
    },
    "tags": []
   },
   "source": [
    "***TOTAL CHOLESTROL***"
   ]
  },
  {
   "cell_type": "code",
   "execution_count": 26,
   "id": "5040d7b7",
   "metadata": {
    "execution": {
     "iopub.execute_input": "2024-07-09T21:58:36.879588Z",
     "iopub.status.busy": "2024-07-09T21:58:36.878927Z",
     "iopub.status.idle": "2024-07-09T21:58:37.331307Z",
     "shell.execute_reply": "2024-07-09T21:58:37.330272Z"
    },
    "papermill": {
     "duration": 0.474698,
     "end_time": "2024-07-09T21:58:37.333719",
     "exception": false,
     "start_time": "2024-07-09T21:58:36.859021",
     "status": "completed"
    },
    "tags": []
   },
   "outputs": [
    {
     "name": "stdout",
     "output_type": "stream",
     "text": [
      "\tMean Cholestrol level :232\t\t\t\tMean Cholestrol level :247\n"
     ]
    },
    {
     "data": {
      "text/plain": [
       "Text(0.5, 1.0, 'Prevalent Hypertension=1')"
      ]
     },
     "execution_count": 26,
     "metadata": {},
     "output_type": "execute_result"
    },
    {
     "data": {
      "image/png": "[encoded data removed]",
      "text/plain": [
       "<Figure size 800x300 with 2 Axes>"
      ]
     },
     "metadata": {},
     "output_type": "display_data"
    }
   ],
   "source": [
    "chol_mu = [data[data.prevalentHyp==0].totChol.mean(),data[data.prevalentHyp==1].totChol.mean()]\n",
    "print(f\"\\tMean Cholestrol level :{chol_mu[0]:.0f}\",end=\"\\t\")\n",
    "print(f\"\\t\\t\\tMean Cholestrol level :{chol_mu[1]:.0f}\")\n",
    "\n",
    "fig,axs = plt.subplots(1,2,figsize=(8,3))\n",
    "axs[0].hist(data[data.prevalentHyp==0].totChol,bins=15)\n",
    "axs[0].set_title(\"Prevalent Hypertension=0\")\n",
    "\n",
    "axs[1].hist(data[data.prevalentHyp==1].totChol,bins=15)\n",
    "axs[1].set_title(\"Prevalent Hypertension=1\")\n"
   ]
  },
  {
   "cell_type": "code",
   "execution_count": 27,
   "id": "7d87fe07",
   "metadata": {
    "execution": {
     "iopub.execute_input": "2024-07-09T21:58:37.374626Z",
     "iopub.status.busy": "2024-07-09T21:58:37.374257Z",
     "iopub.status.idle": "2024-07-09T21:58:37.383988Z",
     "shell.execute_reply": "2024-07-09T21:58:37.382454Z"
    },
    "papermill": {
     "duration": 0.03338,
     "end_time": "2024-07-09T21:58:37.386849",
     "exception": false,
     "start_time": "2024-07-09T21:58:37.353469",
     "status": "completed"
    },
    "tags": []
   },
   "outputs": [],
   "source": [
    "data.loc[:,\"age_group\"] = data.age.apply(lambda s: \"30 to 40\" if 30<=s<=40 else \"40 to 50\" if 40<=s<=50 else \"50 to 60\" if 50<=s<=60 else \"60 to 70\" if 60<=s<=70 else \"Above 70\")"
   ]
  },
  {
   "cell_type": "code",
   "execution_count": 28,
   "id": "87b9f869",
   "metadata": {
    "execution": {
     "iopub.execute_input": "2024-07-09T21:58:37.432507Z",
     "iopub.status.busy": "2024-07-09T21:58:37.432133Z",
     "iopub.status.idle": "2024-07-09T21:58:37.442872Z",
     "shell.execute_reply": "2024-07-09T21:58:37.441898Z"
    },
    "papermill": {
     "duration": 0.033911,
     "end_time": "2024-07-09T21:58:37.445068",
     "exception": false,
     "start_time": "2024-07-09T21:58:37.411157",
     "status": "completed"
    },
    "tags": []
   },
   "outputs": [
    {
     "data": {
      "text/plain": [
       "age_group\n",
       "30 to 40    210.0\n",
       "40 to 50    230.0\n",
       "50 to 60    245.0\n",
       "60 to 70    245.0\n",
       "Name: totChol, dtype: float64"
      ]
     },
     "execution_count": 28,
     "metadata": {},
     "output_type": "execute_result"
    }
   ],
   "source": [
    "age_series = data.totChol.groupby(by=data.age_group).median()\n",
    "age_series"
   ]
  },
  {
   "cell_type": "code",
   "execution_count": 29,
   "id": "a8b54a77",
   "metadata": {
    "execution": {
     "iopub.execute_input": "2024-07-09T21:58:37.493966Z",
     "iopub.status.busy": "2024-07-09T21:58:37.493524Z",
     "iopub.status.idle": "2024-07-09T21:58:37.502511Z",
     "shell.execute_reply": "2024-07-09T21:58:37.501565Z"
    },
    "papermill": {
     "duration": 0.032153,
     "end_time": "2024-07-09T21:58:37.504933",
     "exception": false,
     "start_time": "2024-07-09T21:58:37.472780",
     "status": "completed"
    },
    "tags": []
   },
   "outputs": [],
   "source": [
    "#Imputing the cholestroll null values based on age group\n",
    "\n",
    "data.loc[data.totChol.isnull(),[\"totChol\"]] = data.loc[data.totChol.isnull(),\"age_group\"].apply(lambda c: age_series[c])"
   ]
  },
  {
   "cell_type": "code",
   "execution_count": 30,
   "id": "27b4e74e",
   "metadata": {
    "execution": {
     "iopub.execute_input": "2024-07-09T21:58:37.545688Z",
     "iopub.status.busy": "2024-07-09T21:58:37.545303Z",
     "iopub.status.idle": "2024-07-09T21:58:37.551577Z",
     "shell.execute_reply": "2024-07-09T21:58:37.550527Z"
    },
    "papermill": {
     "duration": 0.029246,
     "end_time": "2024-07-09T21:58:37.553803",
     "exception": false,
     "start_time": "2024-07-09T21:58:37.524557",
     "status": "completed"
    },
    "tags": []
   },
   "outputs": [],
   "source": [
    "data = data.iloc[:,0:-1]"
   ]
  },
  {
   "cell_type": "markdown",
   "id": "13fe6a67",
   "metadata": {
    "papermill": {
     "duration": 0.019156,
     "end_time": "2024-07-09T21:58:37.592451",
     "exception": false,
     "start_time": "2024-07-09T21:58:37.573295",
     "status": "completed"
    },
    "tags": []
   },
   "source": [
    "***HEART RATE***"
   ]
  },
  {
   "cell_type": "code",
   "execution_count": 31,
   "id": "21d498ce",
   "metadata": {
    "execution": {
     "iopub.execute_input": "2024-07-09T21:58:37.633506Z",
     "iopub.status.busy": "2024-07-09T21:58:37.632569Z",
     "iopub.status.idle": "2024-07-09T21:58:37.638508Z",
     "shell.execute_reply": "2024-07-09T21:58:37.637622Z"
    },
    "papermill": {
     "duration": 0.028574,
     "end_time": "2024-07-09T21:58:37.640522",
     "exception": false,
     "start_time": "2024-07-09T21:58:37.611948",
     "status": "completed"
    },
    "tags": []
   },
   "outputs": [],
   "source": [
    "data = data[data.heartRate.notnull()]"
   ]
  },
  {
   "cell_type": "code",
   "execution_count": 32,
   "id": "dc1792d1",
   "metadata": {
    "execution": {
     "iopub.execute_input": "2024-07-09T21:58:37.680596Z",
     "iopub.status.busy": "2024-07-09T21:58:37.680248Z",
     "iopub.status.idle": "2024-07-09T21:58:37.688483Z",
     "shell.execute_reply": "2024-07-09T21:58:37.687504Z"
    },
    "papermill": {
     "duration": 0.030834,
     "end_time": "2024-07-09T21:58:37.690725",
     "exception": false,
     "start_time": "2024-07-09T21:58:37.659891",
     "status": "completed"
    },
    "tags": []
   },
   "outputs": [
    {
     "data": {
      "text/plain": [
       "male                 0\n",
       "age                  0\n",
       "education          105\n",
       "currentSmoker        0\n",
       "cigsPerDay           0\n",
       "BPMeds               0\n",
       "prevalentStroke      0\n",
       "prevalentHyp         0\n",
       "diabetes             0\n",
       "totChol              0\n",
       "sysBP                0\n",
       "diaBP                0\n",
       "BMI                  0\n",
       "heartRate            0\n",
       "glucose              0\n",
       "TenYearCHD           0\n",
       "dtype: int64"
      ]
     },
     "execution_count": 32,
     "metadata": {},
     "output_type": "execute_result"
    }
   ],
   "source": [
    "data.isnull().sum()"
   ]
  },
  {
   "cell_type": "markdown",
   "id": "0ef598f5",
   "metadata": {
    "papermill": {
     "duration": 0.023632,
     "end_time": "2024-07-09T21:58:37.734316",
     "exception": false,
     "start_time": "2024-07-09T21:58:37.710684",
     "status": "completed"
    },
    "tags": []
   },
   "source": [
    "### OUTLIERS"
   ]
  },
  {
   "cell_type": "code",
   "execution_count": 33,
   "id": "e69b2ed5",
   "metadata": {
    "execution": {
     "iopub.execute_input": "2024-07-09T21:58:37.783923Z",
     "iopub.status.busy": "2024-07-09T21:58:37.783515Z",
     "iopub.status.idle": "2024-07-09T21:58:39.291026Z",
     "shell.execute_reply": "2024-07-09T21:58:39.289993Z"
    },
    "papermill": {
     "duration": 1.533867,
     "end_time": "2024-07-09T21:58:39.293243",
     "exception": false,
     "start_time": "2024-07-09T21:58:37.759376",
     "status": "completed"
    },
    "tags": []
   },
   "outputs": [
    {
     "data": {
      "image/png": "[encoded data removed]",
      "text/plain": [
       "<Figure size 1000x1000 with 12 Axes>"
      ]
     },
     "metadata": {},
     "output_type": "display_data"
    }
   ],
   "source": [
    "fig,axs = plt.subplots(3,4,figsize=(10,10))\n",
    "rows = 3\n",
    "cols = 4\n",
    "n=3\n",
    "for i in range(rows):\n",
    "    for j in range(cols):\n",
    "        axs[i][j].boxplot(data.iloc[:,n])\n",
    "        axs[i][j].set_xlabel(data.columns[n])\n",
    "        n+=1"
   ]
  },
  {
   "cell_type": "markdown",
   "id": "a9b81002",
   "metadata": {
    "papermill": {
     "duration": 0.020639,
     "end_time": "2024-07-09T21:58:39.334874",
     "exception": false,
     "start_time": "2024-07-09T21:58:39.314235",
     "status": "completed"
    },
    "tags": []
   },
   "source": [
    "### TRAIN AND TEST SPLIT"
   ]
  },
  {
   "cell_type": "code",
   "execution_count": 34,
   "id": "bbc42114",
   "metadata": {
    "execution": {
     "iopub.execute_input": "2024-07-09T21:58:39.378525Z",
     "iopub.status.busy": "2024-07-09T21:58:39.378129Z",
     "iopub.status.idle": "2024-07-09T21:58:39.388253Z",
     "shell.execute_reply": "2024-07-09T21:58:39.387191Z"
    },
    "papermill": {
     "duration": 0.0348,
     "end_time": "2024-07-09T21:58:39.390542",
     "exception": false,
     "start_time": "2024-07-09T21:58:39.355742",
     "status": "completed"
    },
    "tags": []
   },
   "outputs": [],
   "source": [
    "y = data.TenYearCHD\n",
    "x = data.drop([\"education\",\"TenYearCHD\"],axis=1)\n",
    "\n",
    "train_x, test_x, train_y, test_y = train_test_split(x,y,test_size=0.2)"
   ]
  },
  {
   "cell_type": "code",
   "execution_count": 35,
   "id": "c049b0c8",
   "metadata": {
    "execution": {
     "iopub.execute_input": "2024-07-09T21:58:39.434724Z",
     "iopub.status.busy": "2024-07-09T21:58:39.433983Z",
     "iopub.status.idle": "2024-07-09T21:58:39.438838Z",
     "shell.execute_reply": "2024-07-09T21:58:39.437656Z"
    },
    "papermill": {
     "duration": 0.029064,
     "end_time": "2024-07-09T21:58:39.441030",
     "exception": false,
     "start_time": "2024-07-09T21:58:39.411966",
     "status": "completed"
    },
    "tags": []
   },
   "outputs": [],
   "source": [
    "# y = data.TenYearCHD\n",
    "# x = data.drop([\"education\",\"TenYearCHD\"],axis=1)\n",
    "\n",
    "# np.random.seed(0)\n",
    "\n",
    "# test_idx = np.append(np.random.choice((np.where(y==1))[0],460,replace=False),np.random.choice((np.where(y==0))[0],460,replace=False))\n",
    "# train_idx = list(set(range(len(x))) - set(test_idx))\n",
    "\n",
    "# train_x = x.iloc[train_idx,]\n",
    "# train_y = y.iloc[train_idx]\n",
    "\n",
    "# test_x = x.iloc[test_idx,]\n",
    "# test_y = y.iloc[test_idx]"
   ]
  },
  {
   "cell_type": "code",
   "execution_count": 36,
   "id": "58875095",
   "metadata": {
    "execution": {
     "iopub.execute_input": "2024-07-09T21:58:39.484195Z",
     "iopub.status.busy": "2024-07-09T21:58:39.483777Z",
     "iopub.status.idle": "2024-07-09T21:58:39.489506Z",
     "shell.execute_reply": "2024-07-09T21:58:39.488430Z"
    },
    "papermill": {
     "duration": 0.030124,
     "end_time": "2024-07-09T21:58:39.492014",
     "exception": false,
     "start_time": "2024-07-09T21:58:39.461890",
     "status": "completed"
    },
    "tags": []
   },
   "outputs": [
    {
     "name": "stdout",
     "output_type": "stream",
     "text": [
      "(3347, 14)\n",
      "(3347,)\n",
      "(837, 14)\n",
      "(837,)\n"
     ]
    }
   ],
   "source": [
    "print(train_x.shape)\n",
    "print(train_y.shape)\n",
    "print(test_x.shape)\n",
    "print(test_y.shape)"
   ]
  },
  {
   "cell_type": "code",
   "execution_count": 37,
   "id": "1e625d8e",
   "metadata": {
    "execution": {
     "iopub.execute_input": "2024-07-09T21:58:39.534867Z",
     "iopub.status.busy": "2024-07-09T21:58:39.534470Z",
     "iopub.status.idle": "2024-07-09T21:58:39.543467Z",
     "shell.execute_reply": "2024-07-09T21:58:39.542343Z"
    },
    "papermill": {
     "duration": 0.033407,
     "end_time": "2024-07-09T21:58:39.546105",
     "exception": false,
     "start_time": "2024-07-09T21:58:39.512698",
     "status": "completed"
    },
    "tags": []
   },
   "outputs": [
    {
     "name": "stdout",
     "output_type": "stream",
     "text": [
      "<bound method Series.unique of 3890    0\n",
      "2042    0\n",
      "864     1\n",
      "1760    1\n",
      "3934    0\n",
      "       ..\n",
      "3559    0\n",
      "3039    0\n",
      "2106    1\n",
      "3872    1\n",
      "2453    0\n",
      "Name: TenYearCHD, Length: 3347, dtype: int64>\n"
     ]
    },
    {
     "data": {
      "text/plain": [
       "Counter({0: 2829, 1: 518})"
      ]
     },
     "execution_count": 37,
     "metadata": {},
     "output_type": "execute_result"
    }
   ],
   "source": [
    "from collections import Counter\n",
    "\n",
    "print(train_y.unique)\n",
    "Counter(train_y)"
   ]
  },
  {
   "cell_type": "markdown",
   "id": "029590b8",
   "metadata": {
    "papermill": {
     "duration": 0.02093,
     "end_time": "2024-07-09T21:58:39.587933",
     "exception": false,
     "start_time": "2024-07-09T21:58:39.567003",
     "status": "completed"
    },
    "tags": []
   },
   "source": [
    "### FEATURE SCALING"
   ]
  },
  {
   "cell_type": "code",
   "execution_count": 38,
   "id": "77093018",
   "metadata": {
    "execution": {
     "iopub.execute_input": "2024-07-09T21:58:39.631552Z",
     "iopub.status.busy": "2024-07-09T21:58:39.631179Z",
     "iopub.status.idle": "2024-07-09T21:58:39.642644Z",
     "shell.execute_reply": "2024-07-09T21:58:39.641710Z"
    },
    "papermill": {
     "duration": 0.035914,
     "end_time": "2024-07-09T21:58:39.644901",
     "exception": false,
     "start_time": "2024-07-09T21:58:39.608987",
     "status": "completed"
    },
    "tags": []
   },
   "outputs": [],
   "source": [
    "# Feature scaling\n",
    "from sklearn.preprocessing import StandardScaler\n",
    "\n",
    "scaler = StandardScaler()\n",
    "train_x = scaler.fit_transform(train_x)\n",
    "test_x = scaler.transform(test_x)"
   ]
  },
  {
   "cell_type": "markdown",
   "id": "913ab23d",
   "metadata": {
    "papermill": {
     "duration": 0.021057,
     "end_time": "2024-07-09T21:58:39.687124",
     "exception": false,
     "start_time": "2024-07-09T21:58:39.666067",
     "status": "completed"
    },
    "tags": []
   },
   "source": [
    "### LOGISTIC REGRESION"
   ]
  },
  {
   "cell_type": "code",
   "execution_count": 39,
   "id": "9a7b6df2",
   "metadata": {
    "execution": {
     "iopub.execute_input": "2024-07-09T21:58:39.731607Z",
     "iopub.status.busy": "2024-07-09T21:58:39.730902Z",
     "iopub.status.idle": "2024-07-09T21:58:39.843118Z",
     "shell.execute_reply": "2024-07-09T21:58:39.841800Z"
    },
    "papermill": {
     "duration": 0.138254,
     "end_time": "2024-07-09T21:58:39.846338",
     "exception": false,
     "start_time": "2024-07-09T21:58:39.708084",
     "status": "completed"
    },
    "tags": []
   },
   "outputs": [],
   "source": [
    "from sklearn.linear_model import LogisticRegression\n",
    "\n",
    "lr_obj = LogisticRegression()\n",
    "lr_obj.fit(train_x,train_y)\n",
    "y_pred = lr_obj.predict(test_x)"
   ]
  },
  {
   "cell_type": "code",
   "execution_count": 40,
   "id": "d8928604",
   "metadata": {
    "execution": {
     "iopub.execute_input": "2024-07-09T21:58:39.919956Z",
     "iopub.status.busy": "2024-07-09T21:58:39.919369Z",
     "iopub.status.idle": "2024-07-09T21:58:39.929326Z",
     "shell.execute_reply": "2024-07-09T21:58:39.928063Z"
    },
    "papermill": {
     "duration": 0.049813,
     "end_time": "2024-07-09T21:58:39.932576",
     "exception": false,
     "start_time": "2024-07-09T21:58:39.882763",
     "status": "completed"
    },
    "tags": []
   },
   "outputs": [
    {
     "name": "stdout",
     "output_type": "stream",
     "text": [
      "Test error:  0.13739545997610514\n"
     ]
    }
   ],
   "source": [
    "test_err = np.sum( (y_pred>0.0) != (test_y>0.0) )\n",
    "print(\"Test error: \",test_err/len(test_x))"
   ]
  },
  {
   "cell_type": "code",
   "execution_count": 41,
   "id": "edb45587",
   "metadata": {
    "execution": {
     "iopub.execute_input": "2024-07-09T21:58:39.988143Z",
     "iopub.status.busy": "2024-07-09T21:58:39.987749Z",
     "iopub.status.idle": "2024-07-09T21:58:39.994006Z",
     "shell.execute_reply": "2024-07-09T21:58:39.992897Z"
    },
    "papermill": {
     "duration": 0.030849,
     "end_time": "2024-07-09T21:58:39.996191",
     "exception": false,
     "start_time": "2024-07-09T21:58:39.965342",
     "status": "completed"
    },
    "tags": []
   },
   "outputs": [
    {
     "name": "stdout",
     "output_type": "stream",
     "text": [
      "W: [[ 0.27859515  0.52112021  0.05994462  0.17910854  0.02855301  0.07005828\n",
      "   0.08990663 -0.02221551  0.03533468  0.39031839 -0.06543281  0.02507997\n",
      "  -0.01772894  0.15681711]]\n",
      "b: [-1.94835753]\n"
     ]
    }
   ],
   "source": [
    "w = lr_obj.coef_\n",
    "b = lr_obj.intercept_\n",
    "print(\"W:\",w)\n",
    "print(\"b:\",b)"
   ]
  },
  {
   "cell_type": "code",
   "execution_count": 42,
   "id": "4bef8a5e",
   "metadata": {
    "execution": {
     "iopub.execute_input": "2024-07-09T21:58:40.040241Z",
     "iopub.status.busy": "2024-07-09T21:58:40.039874Z",
     "iopub.status.idle": "2024-07-09T21:58:40.048030Z",
     "shell.execute_reply": "2024-07-09T21:58:40.046661Z"
    },
    "papermill": {
     "duration": 0.033272,
     "end_time": "2024-07-09T21:58:40.050571",
     "exception": false,
     "start_time": "2024-07-09T21:58:40.017299",
     "status": "completed"
    },
    "tags": []
   },
   "outputs": [
    {
     "name": "stdout",
     "output_type": "stream",
     "text": [
      "Model accuracy: 86.3 %\n"
     ]
    }
   ],
   "source": [
    "print(f\"Model accuracy: {lr_obj.score(test_x,test_y)*100:.1f} %\")"
   ]
  },
  {
   "cell_type": "markdown",
   "id": "912c8b27",
   "metadata": {
    "papermill": {
     "duration": 0.036135,
     "end_time": "2024-07-09T21:58:40.121890",
     "exception": false,
     "start_time": "2024-07-09T21:58:40.085755",
     "status": "completed"
    },
    "tags": []
   },
   "source": [
    "### CONFUSION MATRIX"
   ]
  },
  {
   "cell_type": "code",
   "execution_count": 43,
   "id": "81064ad0",
   "metadata": {
    "execution": {
     "iopub.execute_input": "2024-07-09T21:58:40.184731Z",
     "iopub.status.busy": "2024-07-09T21:58:40.184352Z",
     "iopub.status.idle": "2024-07-09T21:58:40.425471Z",
     "shell.execute_reply": "2024-07-09T21:58:40.424378Z"
    },
    "papermill": {
     "duration": 0.268747,
     "end_time": "2024-07-09T21:58:40.427675",
     "exception": false,
     "start_time": "2024-07-09T21:58:40.158928",
     "status": "completed"
    },
    "tags": []
   },
   "outputs": [
    {
     "data": {
      "text/plain": [
       "<sklearn.metrics._plot.confusion_matrix.ConfusionMatrixDisplay at 0x7f13837c16c0>"
      ]
     },
     "execution_count": 43,
     "metadata": {},
     "output_type": "execute_result"
    },
    {
     "data": {
      "image/png": "[encoded data removed]",
      "text/plain": [
       "<Figure size 640x480 with 2 Axes>"
      ]
     },
     "metadata": {},
     "output_type": "display_data"
    }
   ],
   "source": [
    "ConfusionMatrixDisplay.from_predictions(test_y,y_pred)"
   ]
  },
  {
   "cell_type": "code",
   "execution_count": 44,
   "id": "4db85869",
   "metadata": {
    "execution": {
     "iopub.execute_input": "2024-07-09T21:58:40.474518Z",
     "iopub.status.busy": "2024-07-09T21:58:40.474115Z",
     "iopub.status.idle": "2024-07-09T21:58:40.481592Z",
     "shell.execute_reply": "2024-07-09T21:58:40.480485Z"
    },
    "papermill": {
     "duration": 0.033674,
     "end_time": "2024-07-09T21:58:40.483763",
     "exception": false,
     "start_time": "2024-07-09T21:58:40.450089",
     "status": "completed"
    },
    "tags": []
   },
   "outputs": [
    {
     "data": {
      "text/plain": [
       "array([-0.87215382, -0.88922257,  1.01474873, -0.00110409, -0.17367535,\n",
       "       -0.07753336, -0.66860936, -0.16044682, -0.95993431, -0.28650387,\n",
       "       -0.15533167, -0.86718131,  0.68594883, -0.19794279])"
      ]
     },
     "execution_count": 44,
     "metadata": {},
     "output_type": "execute_result"
    }
   ],
   "source": [
    "test_x[0,:]"
   ]
  },
  {
   "cell_type": "code",
   "execution_count": 45,
   "id": "0f56f1c9",
   "metadata": {
    "execution": {
     "iopub.execute_input": "2024-07-09T21:58:40.530486Z",
     "iopub.status.busy": "2024-07-09T21:58:40.530114Z",
     "iopub.status.idle": "2024-07-09T21:58:40.576969Z",
     "shell.execute_reply": "2024-07-09T21:58:40.575750Z"
    },
    "papermill": {
     "duration": 0.07278,
     "end_time": "2024-07-09T21:58:40.579125",
     "exception": false,
     "start_time": "2024-07-09T21:58:40.506345",
     "status": "completed"
    },
    "tags": []
   },
   "outputs": [
    {
     "name": "stdout",
     "output_type": "stream",
     "text": [
      "Cost:  [0.35890233]\n"
     ]
    }
   ],
   "source": [
    "def sigmoid(z):\n",
    "    return 1/(1+np.exp(-z))\n",
    "loss = 0\n",
    "m = len(test_x)\n",
    "for i in range(m):\n",
    "    zi = np.dot(w,test_x[i,:])+b\n",
    "    f_xi = sigmoid(zi)\n",
    "    loss += (test_y.iloc[i] * np.log(f_xi)) + ((1-test_y.iloc[i]) * np.log(1-f_xi))\n",
    "\n",
    "cost = (-1/m)*(loss)\n",
    "\n",
    "print(\"Cost: \",cost)"
   ]
  },
  {
   "cell_type": "code",
   "execution_count": null,
   "id": "00d8cd6d",
   "metadata": {
    "papermill": {
     "duration": 0.022161,
     "end_time": "2024-07-09T21:58:40.623217",
     "exception": false,
     "start_time": "2024-07-09T21:58:40.601056",
     "status": "completed"
    },
    "tags": []
   },
   "outputs": [],
   "source": []
  }
 ],
 "metadata": {
  "kaggle": {
   "accelerator": "none",
   "dataSources": [
    {
     "datasetId": 222487,
     "sourceId": 478477,
     "sourceType": "datasetVersion"
    }
   ],
   "dockerImageVersionId": 30732,
   "isGpuEnabled": false,
   "isInternetEnabled": true,
   "language": "python",
   "sourceType": "notebook"
  },
  "kernelspec": {
   "display_name": "Python 3",
   "language": "python",
   "name": "python3"
  },
  "language_info": {
   "codemirror_mode": {
    "name": "ipython",
    "version": 3
   },
   "file_extension": ".py",
   "mimetype": "text/x-python",
   "name": "python",
   "nbconvert_exporter": "python",
   "pygments_lexer": "ipython3",
   "version": "3.10.13"
  },
  "papermill": {
   "default_parameters": {},
   "duration": 13.587741,
   "end_time": "2024-07-09T21:58:41.266141",
   "environment_variables": {},
   "exception": null,
   "input_path": "__notebook__.ipynb",
   "output_path": "__notebook__.ipynb",
   "parameters": {},
   "start_time": "2024-07-09T21:58:27.678400",
   "version": "2.5.0"
  }
 },
 "nbformat": 4,
 "nbformat_minor": 5
}
