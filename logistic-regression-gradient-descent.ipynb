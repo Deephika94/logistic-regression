{
 "cells": [
  {
   "cell_type": "code",
   "execution_count": 1,
   "id": "11a3ed34",
   "metadata": {
    "_cell_guid": "b1076dfc-b9ad-4769-8c92-a6c4dae69d19",
    "_uuid": "8f2839f25d086af736a60e9eeb907d3b93b6e0e5",
    "execution": {
     "iopub.execute_input": "2024-07-09T21:59:43.553048Z",
     "iopub.status.busy": "2024-07-09T21:59:43.552599Z",
     "iopub.status.idle": "2024-07-09T21:59:44.470637Z",
     "shell.execute_reply": "2024-07-09T21:59:44.469299Z"
    },
    "papermill": {
     "duration": 0.935266,
     "end_time": "2024-07-09T21:59:44.473328",
     "exception": false,
     "start_time": "2024-07-09T21:59:43.538062",
     "status": "completed"
    },
    "tags": []
   },
   "outputs": [
    {
     "name": "stdout",
     "output_type": "stream",
     "text": [
      "/kaggle/input/heart-disease-prediction-using-logistic-regression/framingham.csv\n"
     ]
    }
   ],
   "source": [
    "# This Python 3 environment comes with many helpful analytics libraries installed\n",
    "# It is defined by the kaggle/python Docker image: https://github.com/kaggle/docker-python\n",
    "# For example, here's several helpful packages to load\n",
    "\n",
    "import numpy as np # linear algebra\n",
    "import pandas as pd # data processing, CSV file I/O (e.g. pd.read_csv)\n",
    "\n",
    "# Input data files are available in the read-only \"../input/\" directory\n",
    "# For example, running this (by clicking run or pressing Shift+Enter) will list all files under the input directory\n",
    "\n",
    "import os\n",
    "for dirname, _, filenames in os.walk('/kaggle/input'):\n",
    "    for filename in filenames:\n",
    "        print(os.path.join(dirname, filename))\n",
    "\n",
    "# You can write up to 20GB to the current directory (/kaggle/working/) that gets preserved as output when you create a version using \"Save & Run All\" \n",
    "# You can also write temporary files to /kaggle/temp/, but they won't be saved outside of the current session"
   ]
  },
  {
   "cell_type": "markdown",
   "id": "bce85d5f",
   "metadata": {
    "papermill": {
     "duration": 0.012269,
     "end_time": "2024-07-09T21:59:44.498356",
     "exception": false,
     "start_time": "2024-07-09T21:59:44.486087",
     "status": "completed"
    },
    "tags": []
   },
   "source": [
    "### IMPORTS"
   ]
  },
  {
   "cell_type": "code",
   "execution_count": 2,
   "id": "696591a4",
   "metadata": {
    "execution": {
     "iopub.execute_input": "2024-07-09T21:59:44.525413Z",
     "iopub.status.busy": "2024-07-09T21:59:44.524860Z",
     "iopub.status.idle": "2024-07-09T21:59:45.821478Z",
     "shell.execute_reply": "2024-07-09T21:59:45.820216Z"
    },
    "papermill": {
     "duration": 1.313126,
     "end_time": "2024-07-09T21:59:45.824078",
     "exception": false,
     "start_time": "2024-07-09T21:59:44.510952",
     "status": "completed"
    },
    "tags": []
   },
   "outputs": [],
   "source": [
    "import pandas as pd\n",
    "import numpy as np\n",
    "import math,copy\n",
    "import matplotlib.pyplot as plt\n",
    "from sklearn.metrics import ConfusionMatrixDisplay\n",
    "from sklearn.model_selection import train_test_split"
   ]
  },
  {
   "cell_type": "code",
   "execution_count": 3,
   "id": "da9f0f5c",
   "metadata": {
    "execution": {
     "iopub.execute_input": "2024-07-09T21:59:45.851491Z",
     "iopub.status.busy": "2024-07-09T21:59:45.851086Z",
     "iopub.status.idle": "2024-07-09T21:59:45.886848Z",
     "shell.execute_reply": "2024-07-09T21:59:45.885740Z"
    },
    "papermill": {
     "duration": 0.052265,
     "end_time": "2024-07-09T21:59:45.889384",
     "exception": false,
     "start_time": "2024-07-09T21:59:45.837119",
     "status": "completed"
    },
    "tags": []
   },
   "outputs": [
    {
     "data": {
      "text/plain": [
       "(4238, 16)"
      ]
     },
     "execution_count": 3,
     "metadata": {},
     "output_type": "execute_result"
    }
   ],
   "source": [
    "data = pd.read_csv(\"/kaggle/input/heart-disease-prediction-using-logistic-regression/framingham.csv\")\n",
    "data.shape"
   ]
  },
  {
   "cell_type": "markdown",
   "id": "54dd44f8",
   "metadata": {
    "papermill": {
     "duration": 0.012344,
     "end_time": "2024-07-09T21:59:45.915087",
     "exception": false,
     "start_time": "2024-07-09T21:59:45.902743",
     "status": "completed"
    },
    "tags": []
   },
   "source": [
    "### DATA CLEANING"
   ]
  },
  {
   "cell_type": "code",
   "execution_count": 4,
   "id": "dfc5de6f",
   "metadata": {
    "execution": {
     "iopub.execute_input": "2024-07-09T21:59:45.941969Z",
     "iopub.status.busy": "2024-07-09T21:59:45.941555Z",
     "iopub.status.idle": "2024-07-09T21:59:45.958478Z",
     "shell.execute_reply": "2024-07-09T21:59:45.957321Z"
    },
    "papermill": {
     "duration": 0.033453,
     "end_time": "2024-07-09T21:59:45.961049",
     "exception": false,
     "start_time": "2024-07-09T21:59:45.927596",
     "status": "completed"
    },
    "tags": []
   },
   "outputs": [
    {
     "data": {
      "text/plain": [
       "male                 0\n",
       "age                  0\n",
       "education          105\n",
       "currentSmoker        0\n",
       "cigsPerDay          29\n",
       "BPMeds              53\n",
       "prevalentStroke      0\n",
       "prevalentHyp         0\n",
       "diabetes             0\n",
       "totChol             50\n",
       "sysBP                0\n",
       "diaBP                0\n",
       "BMI                 19\n",
       "heartRate            1\n",
       "glucose            388\n",
       "TenYearCHD           0\n",
       "dtype: int64"
      ]
     },
     "execution_count": 4,
     "metadata": {},
     "output_type": "execute_result"
    }
   ],
   "source": [
    "data.isna().sum()"
   ]
  },
  {
   "cell_type": "markdown",
   "id": "39303631",
   "metadata": {
    "papermill": {
     "duration": 0.012976,
     "end_time": "2024-07-09T21:59:45.986999",
     "exception": false,
     "start_time": "2024-07-09T21:59:45.974023",
     "status": "completed"
    },
    "tags": []
   },
   "source": [
    "***CIGARS PER DAY***"
   ]
  },
  {
   "cell_type": "code",
   "execution_count": 5,
   "id": "f787f320",
   "metadata": {
    "execution": {
     "iopub.execute_input": "2024-07-09T21:59:46.014664Z",
     "iopub.status.busy": "2024-07-09T21:59:46.014236Z",
     "iopub.status.idle": "2024-07-09T21:59:46.355565Z",
     "shell.execute_reply": "2024-07-09T21:59:46.354425Z"
    },
    "papermill": {
     "duration": 0.358149,
     "end_time": "2024-07-09T21:59:46.357982",
     "exception": false,
     "start_time": "2024-07-09T21:59:45.999833",
     "status": "completed"
    },
    "tags": []
   },
   "outputs": [
    {
     "data": {
      "text/plain": [
       "Text(0, 0.5, 'Count')"
      ]
     },
     "execution_count": 5,
     "metadata": {},
     "output_type": "execute_result"
    },
    {
     "data": {
      "image/png": "[encoded data removed]",
      "text/plain": [
       "<Figure size 640x480 with 1 Axes>"
      ]
     },
     "metadata": {},
     "output_type": "display_data"
    }
   ],
   "source": [
    "plt.hist(data.cigsPerDay,density=False,color=plt.cm.PuRd(200))\n",
    "plt.title(\"No of cigars per day\")\n",
    "plt.ylabel(\"Count\")"
   ]
  },
  {
   "cell_type": "code",
   "execution_count": 6,
   "id": "09211edb",
   "metadata": {
    "execution": {
     "iopub.execute_input": "2024-07-09T21:59:46.387090Z",
     "iopub.status.busy": "2024-07-09T21:59:46.386695Z",
     "iopub.status.idle": "2024-07-09T21:59:46.903441Z",
     "shell.execute_reply": "2024-07-09T21:59:46.902357Z"
    },
    "papermill": {
     "duration": 0.534636,
     "end_time": "2024-07-09T21:59:46.906021",
     "exception": false,
     "start_time": "2024-07-09T21:59:46.371385",
     "status": "completed"
    },
    "tags": []
   },
   "outputs": [
    {
     "data": {
      "text/plain": [
       "Text(0, 0.5, 'Count')"
      ]
     },
     "execution_count": 6,
     "metadata": {},
     "output_type": "execute_result"
    },
    {
     "data": {
      "image/png": "[encoded data removed]",
      "text/plain": [
       "<Figure size 800x300 with 2 Axes>"
      ]
     },
     "metadata": {},
     "output_type": "display_data"
    }
   ],
   "source": [
    "fig,axs = plt.subplots(1,2,figsize=(8,3))\n",
    "axs[0].hist(data[data.currentSmoker==1].cigsPerDay,density=False,color=plt.cm.PuRd(200))\n",
    "axs[0].set_title(\"No of cigars per day - Smoker\")\n",
    "axs[0].set_ylabel(\"Count\")\n",
    "axs[1].hist(data[data.currentSmoker==0].cigsPerDay,density=False,color=plt.cm.PuRd(50))\n",
    "axs[1].set_title(\"No of cigars per day - Non Smoker\")\n",
    "axs[1].set_ylabel(\"Count\")"
   ]
  },
  {
   "cell_type": "code",
   "execution_count": 7,
   "id": "7f82c26c",
   "metadata": {
    "execution": {
     "iopub.execute_input": "2024-07-09T21:59:46.935204Z",
     "iopub.status.busy": "2024-07-09T21:59:46.934812Z",
     "iopub.status.idle": "2024-07-09T21:59:46.949978Z",
     "shell.execute_reply": "2024-07-09T21:59:46.948909Z"
    },
    "papermill": {
     "duration": 0.032906,
     "end_time": "2024-07-09T21:59:46.952708",
     "exception": false,
     "start_time": "2024-07-09T21:59:46.919802",
     "status": "completed"
    },
    "tags": []
   },
   "outputs": [
    {
     "name": "stdout",
     "output_type": "stream",
     "text": [
      "currentSmoker\n",
      "0     0\n",
      "1    29\n",
      "Name: cigsPerDay, dtype: int64\n"
     ]
    }
   ],
   "source": [
    "# Handling missing values in \"cigars per day\"\n",
    "# if the person is a current smoker, cigar per day = average cigar per day \n",
    "# if the person is a non current smoker, cigar per day = 0\n",
    "\n",
    "print(data.cigsPerDay.isnull().groupby(by=data.currentSmoker).sum())"
   ]
  },
  {
   "cell_type": "code",
   "execution_count": 8,
   "id": "04b84afd",
   "metadata": {
    "execution": {
     "iopub.execute_input": "2024-07-09T21:59:46.981879Z",
     "iopub.status.busy": "2024-07-09T21:59:46.981509Z",
     "iopub.status.idle": "2024-07-09T21:59:46.994371Z",
     "shell.execute_reply": "2024-07-09T21:59:46.993233Z"
    },
    "papermill": {
     "duration": 0.030541,
     "end_time": "2024-07-09T21:59:46.996982",
     "exception": false,
     "start_time": "2024-07-09T21:59:46.966441",
     "status": "completed"
    },
    "tags": []
   },
   "outputs": [
    {
     "data": {
      "text/plain": [
       "0"
      ]
     },
     "execution_count": 8,
     "metadata": {},
     "output_type": "execute_result"
    }
   ],
   "source": [
    "data.loc[data.cigsPerDay.isnull(),[\"cigsPerDay\"]] = round(data[data.currentSmoker==1].cigsPerDay.mean())\n",
    "data.cigsPerDay.isnull().sum()"
   ]
  },
  {
   "cell_type": "markdown",
   "id": "b7411229",
   "metadata": {
    "papermill": {
     "duration": 0.013651,
     "end_time": "2024-07-09T21:59:47.024617",
     "exception": false,
     "start_time": "2024-07-09T21:59:47.010966",
     "status": "completed"
    },
    "tags": []
   },
   "source": [
    "***BP MEDS***"
   ]
  },
  {
   "cell_type": "code",
   "execution_count": 9,
   "id": "59a7fc8c",
   "metadata": {
    "execution": {
     "iopub.execute_input": "2024-07-09T21:59:47.054521Z",
     "iopub.status.busy": "2024-07-09T21:59:47.054122Z",
     "iopub.status.idle": "2024-07-09T21:59:47.078344Z",
     "shell.execute_reply": "2024-07-09T21:59:47.077236Z"
    },
    "papermill": {
     "duration": 0.041952,
     "end_time": "2024-07-09T21:59:47.080825",
     "exception": false,
     "start_time": "2024-07-09T21:59:47.038873",
     "status": "completed"
    },
    "tags": []
   },
   "outputs": [
    {
     "name": "stdout",
     "output_type": "stream",
     "text": [
      "BPMeds         0.0  1.0\n",
      "prevalentHyp           \n",
      "0             2891    0\n",
      "1             1170  124\n"
     ]
    }
   ],
   "source": [
    "print(pd.crosstab(data.prevalentHyp[data.BPMeds.notnull()],data.BPMeds[data.BPMeds.notnull()]))"
   ]
  },
  {
   "cell_type": "code",
   "execution_count": 10,
   "id": "757ebd55",
   "metadata": {
    "execution": {
     "iopub.execute_input": "2024-07-09T21:59:47.111577Z",
     "iopub.status.busy": "2024-07-09T21:59:47.110457Z",
     "iopub.status.idle": "2024-07-09T21:59:47.120755Z",
     "shell.execute_reply": "2024-07-09T21:59:47.119694Z"
    },
    "papermill": {
     "duration": 0.027899,
     "end_time": "2024-07-09T21:59:47.122902",
     "exception": false,
     "start_time": "2024-07-09T21:59:47.095003",
     "status": "completed"
    },
    "tags": []
   },
   "outputs": [
    {
     "data": {
      "text/plain": [
       "prevalentHyp\n",
       "0    31\n",
       "1    22\n",
       "Name: prevalentHyp, dtype: int64"
      ]
     },
     "execution_count": 10,
     "metadata": {},
     "output_type": "execute_result"
    }
   ],
   "source": [
    "data.prevalentHyp[data.BPMeds.isnull()].groupby(by=data.prevalentHyp).count()"
   ]
  },
  {
   "cell_type": "code",
   "execution_count": 11,
   "id": "9e5ee908",
   "metadata": {
    "execution": {
     "iopub.execute_input": "2024-07-09T21:59:47.152681Z",
     "iopub.status.busy": "2024-07-09T21:59:47.152310Z",
     "iopub.status.idle": "2024-07-09T21:59:47.789015Z",
     "shell.execute_reply": "2024-07-09T21:59:47.787868Z"
    },
    "papermill": {
     "duration": 0.654542,
     "end_time": "2024-07-09T21:59:47.791482",
     "exception": false,
     "start_time": "2024-07-09T21:59:47.136940",
     "status": "completed"
    },
    "tags": []
   },
   "outputs": [
    {
     "data": {
      "text/plain": [
       "Text(0.5, 0, 'systolic BP')"
      ]
     },
     "execution_count": 11,
     "metadata": {},
     "output_type": "execute_result"
    },
    {
     "data": {
      "image/png": "[encoded data removed]",
      "text/plain": [
       "<Figure size 800x300 with 2 Axes>"
      ]
     },
     "metadata": {},
     "output_type": "display_data"
    }
   ],
   "source": [
    "fig,axs = plt.subplots(1,2,figsize=(8,3))\n",
    "axs[0].scatter(data.sysBP[data.prevalentHyp==0],data.diaBP[data.prevalentHyp==0],c=data.BPMeds[data.prevalentHyp==0])\n",
    "axs[0].set_xlim(70,310)\n",
    "axs[0].set_ylim(45,145)\n",
    "axs[0].set_title(\"Prevalent Hypertension = 0\")\n",
    "axs[0].set_xlabel(\"systolic BP\")\n",
    "axs[0].set_ylabel(\"diastolic BP\")\n",
    "\n",
    "axs[1].scatter(data.sysBP[data.prevalentHyp==1],data.diaBP[data.prevalentHyp==1],c=data.BPMeds[data.prevalentHyp==1])\n",
    "axs[1].set_xlim(70,310)\n",
    "axs[1].set_ylim(45,145)\n",
    "axs[1].set_title(\"Prevalent Hypertension = 1\")\n",
    "axs[1].set_xlabel(\"systolic BP\")"
   ]
  },
  {
   "cell_type": "code",
   "execution_count": 12,
   "id": "2c3b7e4f",
   "metadata": {
    "execution": {
     "iopub.execute_input": "2024-07-09T21:59:47.824234Z",
     "iopub.status.busy": "2024-07-09T21:59:47.823474Z",
     "iopub.status.idle": "2024-07-09T21:59:47.830248Z",
     "shell.execute_reply": "2024-07-09T21:59:47.829122Z"
    },
    "papermill": {
     "duration": 0.026148,
     "end_time": "2024-07-09T21:59:47.832625",
     "exception": false,
     "start_time": "2024-07-09T21:59:47.806477",
     "status": "completed"
    },
    "tags": []
   },
   "outputs": [],
   "source": [
    "#Dropping the rows that have null values in BP meds columns (53 rows will be dropped)\n",
    "\n",
    "data = data[data.BPMeds.notnull()]"
   ]
  },
  {
   "cell_type": "markdown",
   "id": "3b71126c",
   "metadata": {
    "papermill": {
     "duration": 0.014719,
     "end_time": "2024-07-09T21:59:47.862488",
     "exception": false,
     "start_time": "2024-07-09T21:59:47.847769",
     "status": "completed"
    },
    "tags": []
   },
   "source": [
    "***GLUCOSE LEVEL***"
   ]
  },
  {
   "cell_type": "code",
   "execution_count": 13,
   "id": "a76a2c1a",
   "metadata": {
    "execution": {
     "iopub.execute_input": "2024-07-09T21:59:47.894047Z",
     "iopub.status.busy": "2024-07-09T21:59:47.893614Z",
     "iopub.status.idle": "2024-07-09T21:59:48.336473Z",
     "shell.execute_reply": "2024-07-09T21:59:48.335457Z"
    },
    "papermill": {
     "duration": 0.461435,
     "end_time": "2024-07-09T21:59:48.338855",
     "exception": false,
     "start_time": "2024-07-09T21:59:47.877420",
     "status": "completed"
    },
    "tags": []
   },
   "outputs": [
    {
     "name": "stdout",
     "output_type": "stream",
     "text": [
      "\t\tMean glucose=79\t\t\t\tMean glucose=171\n",
      "\t\tMedian glucose=78\t\t\tMedian glucose=147\n"
     ]
    },
    {
     "data": {
      "image/png": "[encoded data removed]",
      "text/plain": [
       "<Figure size 800x300 with 2 Axes>"
      ]
     },
     "metadata": {},
     "output_type": "display_data"
    }
   ],
   "source": [
    "gluc_mu = [data.glucose[data.diabetes==0].mean(),data.glucose[data.diabetes==1].mean()]\n",
    "gluc_med = [data.glucose[data.diabetes==0].median(),data.glucose[data.diabetes==1].median()]\n",
    "print(f\"\\t\\tMean glucose={gluc_mu[0]:.0f}\",end=\"\\t\")\n",
    "print(f\"\\t\\t\\tMean glucose={gluc_mu[1]:.0f}\")\n",
    "print(f\"\\t\\tMedian glucose={gluc_med[0]:.0f}\",end=\"\\t\")\n",
    "print(f\"\\t\\tMedian glucose={gluc_med[1]:.0f}\")\n",
    "fig,axs = plt.subplots(1,2,figsize=(8,3))\n",
    "axs[0].hist(data.glucose[data.diabetes==0],density=False,bins=20)\n",
    "axs[0].set_title(\"Diabetes = 0\")\n",
    "axs[0].set_xlabel(\"Glucose level\")\n",
    "axs[0].vlines(gluc_mu[0],0,900,colors=\"red\")\n",
    "\n",
    "axs[1].hist(data.glucose[data.diabetes==1],density=False, bins=20)\n",
    "axs[1].set_title(\"Diabetes = 1\")\n",
    "axs[1].set_xlabel(\"Glucose level\")\n",
    "axs[1].vlines(gluc_mu[1],0,15,colors=\"red\")\n",
    "\n",
    "plt.show()"
   ]
  },
  {
   "cell_type": "code",
   "execution_count": 14,
   "id": "2c0351cb",
   "metadata": {
    "execution": {
     "iopub.execute_input": "2024-07-09T21:59:48.371201Z",
     "iopub.status.busy": "2024-07-09T21:59:48.370772Z",
     "iopub.status.idle": "2024-07-09T21:59:48.389222Z",
     "shell.execute_reply": "2024-07-09T21:59:48.388203Z"
    },
    "papermill": {
     "duration": 0.037214,
     "end_time": "2024-07-09T21:59:48.391398",
     "exception": false,
     "start_time": "2024-07-09T21:59:48.354184",
     "status": "completed"
    },
    "tags": []
   },
   "outputs": [
    {
     "name": "stdout",
     "output_type": "stream",
     "text": [
      "Null data split by diabetes group\n"
     ]
    },
    {
     "data": {
      "text/html": [
       "<div>\n",
       "<style scoped>\n",
       "    .dataframe tbody tr th:only-of-type {\n",
       "        vertical-align: middle;\n",
       "    }\n",
       "\n",
       "    .dataframe tbody tr th {\n",
       "        vertical-align: top;\n",
       "    }\n",
       "\n",
       "    .dataframe thead th {\n",
       "        text-align: right;\n",
       "    }\n",
       "</style>\n",
       "<table border=\"1\" class=\"dataframe\">\n",
       "  <thead>\n",
       "    <tr style=\"text-align: right;\">\n",
       "      <th></th>\n",
       "      <th>glucose</th>\n",
       "      <th>diabetes</th>\n",
       "    </tr>\n",
       "    <tr>\n",
       "      <th>diabetes</th>\n",
       "      <th></th>\n",
       "      <th></th>\n",
       "    </tr>\n",
       "  </thead>\n",
       "  <tbody>\n",
       "    <tr>\n",
       "      <th>0</th>\n",
       "      <td>0</td>\n",
       "      <td>382</td>\n",
       "    </tr>\n",
       "    <tr>\n",
       "      <th>1</th>\n",
       "      <td>0</td>\n",
       "      <td>4</td>\n",
       "    </tr>\n",
       "  </tbody>\n",
       "</table>\n",
       "</div>"
      ],
      "text/plain": [
       "          glucose  diabetes\n",
       "diabetes                   \n",
       "0               0       382\n",
       "1               0         4"
      ]
     },
     "execution_count": 14,
     "metadata": {},
     "output_type": "execute_result"
    }
   ],
   "source": [
    "idx = data[data.glucose.isnull()].index\n",
    "temp = data.loc[idx,[\"glucose\",\"diabetes\"]]\n",
    "print(\"Null data split by diabetes group\")\n",
    "temp.groupby(by=data.diabetes).count()"
   ]
  },
  {
   "cell_type": "code",
   "execution_count": 15,
   "id": "8ac2ce8a",
   "metadata": {
    "execution": {
     "iopub.execute_input": "2024-07-09T21:59:48.424945Z",
     "iopub.status.busy": "2024-07-09T21:59:48.423918Z",
     "iopub.status.idle": "2024-07-09T21:59:48.434432Z",
     "shell.execute_reply": "2024-07-09T21:59:48.433378Z"
    },
    "papermill": {
     "duration": 0.029731,
     "end_time": "2024-07-09T21:59:48.436831",
     "exception": false,
     "start_time": "2024-07-09T21:59:48.407100",
     "status": "completed"
    },
    "tags": []
   },
   "outputs": [],
   "source": [
    "#Imputing the null values with median\n",
    "\n",
    "data.loc[(data.glucose.isnull())&(data.diabetes==1),[\"glucose\"]] = gluc_med[1]\n",
    "data.loc[(data.glucose.isnull())&(data.diabetes==0),[\"glucose\"]] = gluc_med[0]"
   ]
  },
  {
   "cell_type": "code",
   "execution_count": 16,
   "id": "8a1602db",
   "metadata": {
    "execution": {
     "iopub.execute_input": "2024-07-09T21:59:48.470301Z",
     "iopub.status.busy": "2024-07-09T21:59:48.469892Z",
     "iopub.status.idle": "2024-07-09T21:59:48.488864Z",
     "shell.execute_reply": "2024-07-09T21:59:48.487641Z"
    },
    "papermill": {
     "duration": 0.038,
     "end_time": "2024-07-09T21:59:48.490987",
     "exception": false,
     "start_time": "2024-07-09T21:59:48.452987",
     "status": "completed"
    },
    "tags": []
   },
   "outputs": [
    {
     "name": "stdout",
     "output_type": "stream",
     "text": [
      "data split by diabetes group\n"
     ]
    },
    {
     "data": {
      "text/html": [
       "<div>\n",
       "<style scoped>\n",
       "    .dataframe tbody tr th:only-of-type {\n",
       "        vertical-align: middle;\n",
       "    }\n",
       "\n",
       "    .dataframe tbody tr th {\n",
       "        vertical-align: top;\n",
       "    }\n",
       "\n",
       "    .dataframe thead th {\n",
       "        text-align: right;\n",
       "    }\n",
       "</style>\n",
       "<table border=\"1\" class=\"dataframe\">\n",
       "  <thead>\n",
       "    <tr style=\"text-align: right;\">\n",
       "      <th></th>\n",
       "      <th>glucose</th>\n",
       "      <th>diabetes</th>\n",
       "    </tr>\n",
       "    <tr>\n",
       "      <th>diabetes</th>\n",
       "      <th></th>\n",
       "      <th></th>\n",
       "    </tr>\n",
       "  </thead>\n",
       "  <tbody>\n",
       "    <tr>\n",
       "      <th>0</th>\n",
       "      <td>78.0</td>\n",
       "      <td>0.0</td>\n",
       "    </tr>\n",
       "    <tr>\n",
       "      <th>1</th>\n",
       "      <td>147.0</td>\n",
       "      <td>1.0</td>\n",
       "    </tr>\n",
       "  </tbody>\n",
       "</table>\n",
       "</div>"
      ],
      "text/plain": [
       "          glucose  diabetes\n",
       "diabetes                   \n",
       "0            78.0       0.0\n",
       "1           147.0       1.0"
      ]
     },
     "execution_count": 16,
     "metadata": {},
     "output_type": "execute_result"
    }
   ],
   "source": [
    "temp = data.loc[idx,[\"glucose\",\"diabetes\"]]\n",
    "print(\"data split by diabetes group\")\n",
    "temp.groupby(by=data.diabetes).median()"
   ]
  },
  {
   "cell_type": "markdown",
   "id": "763a6759",
   "metadata": {
    "papermill": {
     "duration": 0.017107,
     "end_time": "2024-07-09T21:59:48.524300",
     "exception": false,
     "start_time": "2024-07-09T21:59:48.507193",
     "status": "completed"
    },
    "tags": []
   },
   "source": [
    "***BMI***"
   ]
  },
  {
   "cell_type": "code",
   "execution_count": 17,
   "id": "b004ba87",
   "metadata": {
    "execution": {
     "iopub.execute_input": "2024-07-09T21:59:48.618105Z",
     "iopub.status.busy": "2024-07-09T21:59:48.617703Z",
     "iopub.status.idle": "2024-07-09T21:59:48.800586Z",
     "shell.execute_reply": "2024-07-09T21:59:48.799628Z"
    },
    "papermill": {
     "duration": 0.26245,
     "end_time": "2024-07-09T21:59:48.803066",
     "exception": false,
     "start_time": "2024-07-09T21:59:48.540616",
     "status": "completed"
    },
    "tags": []
   },
   "outputs": [],
   "source": [
    "dk = data[data.prevalentHyp==0]\n",
    "bmi_group0 = [0 if dk.BMI.iloc[i] <= 18.5 else 1 if 18.5<=dk.BMI.iloc[i] <=24.9 else 2 if 25.0<= dk.BMI.iloc[i]<=29.9 else 3 for i in range(len(dk))]\n",
    "dj = data[data.prevalentHyp==1]\n",
    "bmi_group1 = [0 if dj.BMI.iloc[i] <= 18.5 else 1 if 18.5<=dj.BMI.iloc[i] <=24.9 else 2 if 25.0<= dj.BMI.iloc[i]<=29.9 else 3 for i in range(len(dj))]"
   ]
  },
  {
   "cell_type": "code",
   "execution_count": 18,
   "id": "ab073fdc",
   "metadata": {
    "execution": {
     "iopub.execute_input": "2024-07-09T21:59:48.837116Z",
     "iopub.status.busy": "2024-07-09T21:59:48.836740Z",
     "iopub.status.idle": "2024-07-09T21:59:49.517502Z",
     "shell.execute_reply": "2024-07-09T21:59:49.516177Z"
    },
    "papermill": {
     "duration": 0.701063,
     "end_time": "2024-07-09T21:59:49.520255",
     "exception": false,
     "start_time": "2024-07-09T21:59:48.819192",
     "status": "completed"
    },
    "tags": []
   },
   "outputs": [
    {
     "data": {
      "image/png": "[encoded data removed]",
      "text/plain": [
       "<Figure size 800x300 with 2 Axes>"
      ]
     },
     "metadata": {},
     "output_type": "display_data"
    }
   ],
   "source": [
    "fig,axs = plt.subplots(1,2,figsize=(8,3))\n",
    "sc0 = axs[0].scatter(data.sysBP[data.prevalentHyp==0],data.diaBP[data.prevalentHyp==0],c=bmi_group0)\n",
    "axs[0].set_xlim(70,310)\n",
    "axs[0].set_ylim(45,145)\n",
    "axs[0].set_title(\"Prevalent Hypertension = 0\")\n",
    "axs[0].set_xlabel(\"systolic BP\")\n",
    "axs[0].set_ylabel(\"diastolic BP\")\n",
    "\n",
    "axs[0].legend(*sc0.legend_elements())\n",
    "\n",
    "sc1 = axs[1].scatter(data.sysBP[data.prevalentHyp==1],data.diaBP[data.prevalentHyp==1],c=bmi_group1)\n",
    "axs[1].set_xlim(70,310)\n",
    "axs[1].set_ylim(45,145)\n",
    "axs[1].set_title(\"Prevalent Hypertension = 1\")\n",
    "axs[1].set_xlabel(\"systolic BP\")\n",
    "\n",
    "axs[1].legend(*sc1.legend_elements())\n",
    "\n",
    "plt.show()"
   ]
  },
  {
   "cell_type": "code",
   "execution_count": 19,
   "id": "a5d2adb1",
   "metadata": {
    "execution": {
     "iopub.execute_input": "2024-07-09T21:59:49.557597Z",
     "iopub.status.busy": "2024-07-09T21:59:49.557206Z",
     "iopub.status.idle": "2024-07-09T21:59:50.003723Z",
     "shell.execute_reply": "2024-07-09T21:59:50.002667Z"
    },
    "papermill": {
     "duration": 0.467888,
     "end_time": "2024-07-09T21:59:50.006000",
     "exception": false,
     "start_time": "2024-07-09T21:59:49.538112",
     "status": "completed"
    },
    "tags": []
   },
   "outputs": [
    {
     "name": "stdout",
     "output_type": "stream",
     "text": [
      "\tMean BMI :25\t\t\t\tMean BMI :28\n"
     ]
    },
    {
     "data": {
      "text/plain": [
       "Text(0.5, 1.0, 'Prevalent Hypertension=1')"
      ]
     },
     "execution_count": 19,
     "metadata": {},
     "output_type": "execute_result"
    },
    {
     "data": {
      "image/png": "[encoded data removed]",
      "text/plain": [
       "<Figure size 800x300 with 2 Axes>"
      ]
     },
     "metadata": {},
     "output_type": "display_data"
    }
   ],
   "source": [
    "bmi_mu = [data[data.prevalentHyp==0].BMI.mean(),data[data.prevalentHyp==1].BMI.mean()]\n",
    "print(f\"\\tMean BMI :{bmi_mu[0]:.0f}\",end=\"\\t\")\n",
    "print(f\"\\t\\t\\tMean BMI :{bmi_mu[1]:.0f}\")\n",
    "\n",
    "fig,axs = plt.subplots(1,2,figsize=(8,3))\n",
    "axs[0].hist(data[data.prevalentHyp==0].BMI)\n",
    "axs[0].set_title(\"Prevalent Hypertension=0\")\n",
    "\n",
    "axs[1].hist(data[data.prevalentHyp==1].BMI)\n",
    "axs[1].set_title(\"Prevalent Hypertension=1\")\n"
   ]
  },
  {
   "cell_type": "code",
   "execution_count": 20,
   "id": "3cd5ac67",
   "metadata": {
    "execution": {
     "iopub.execute_input": "2024-07-09T21:59:50.043705Z",
     "iopub.status.busy": "2024-07-09T21:59:50.042999Z",
     "iopub.status.idle": "2024-07-09T21:59:50.053831Z",
     "shell.execute_reply": "2024-07-09T21:59:50.052622Z"
    },
    "papermill": {
     "duration": 0.03249,
     "end_time": "2024-07-09T21:59:50.056031",
     "exception": false,
     "start_time": "2024-07-09T21:59:50.023541",
     "status": "completed"
    },
    "tags": []
   },
   "outputs": [],
   "source": [
    "#Imputing the null values with Mean BMI\n",
    "\n",
    "data.loc[(data.BMI.isnull())&(data.prevalentHyp==0),[\"BMI\"]] = bmi_mu[0]\n",
    "data.loc[(data.BMI.isnull())&(data.prevalentHyp==1),[\"BMI\"]] = bmi_mu[1]"
   ]
  },
  {
   "cell_type": "markdown",
   "id": "786b78bb",
   "metadata": {
    "papermill": {
     "duration": 0.017282,
     "end_time": "2024-07-09T21:59:50.090942",
     "exception": false,
     "start_time": "2024-07-09T21:59:50.073660",
     "status": "completed"
    },
    "tags": []
   },
   "source": [
    "***TOTAL CHOLESTROL***"
   ]
  },
  {
   "cell_type": "code",
   "execution_count": 21,
   "id": "765f052a",
   "metadata": {
    "execution": {
     "iopub.execute_input": "2024-07-09T21:59:50.130931Z",
     "iopub.status.busy": "2024-07-09T21:59:50.129669Z",
     "iopub.status.idle": "2024-07-09T21:59:50.645546Z",
     "shell.execute_reply": "2024-07-09T21:59:50.644357Z"
    },
    "papermill": {
     "duration": 0.539436,
     "end_time": "2024-07-09T21:59:50.647905",
     "exception": false,
     "start_time": "2024-07-09T21:59:50.108469",
     "status": "completed"
    },
    "tags": []
   },
   "outputs": [
    {
     "name": "stdout",
     "output_type": "stream",
     "text": [
      "\tMean Cholestrol level :232\t\t\t\tMean Cholestrol level :247\n"
     ]
    },
    {
     "data": {
      "text/plain": [
       "Text(0.5, 1.0, 'Prevalent Hypertension=1')"
      ]
     },
     "execution_count": 21,
     "metadata": {},
     "output_type": "execute_result"
    },
    {
     "data": {
      "image/png": "[encoded data removed]",
      "text/plain": [
       "<Figure size 800x300 with 2 Axes>"
      ]
     },
     "metadata": {},
     "output_type": "display_data"
    }
   ],
   "source": [
    "chol_mu = [data[data.prevalentHyp==0].totChol.mean(),data[data.prevalentHyp==1].totChol.mean()]\n",
    "print(f\"\\tMean Cholestrol level :{chol_mu[0]:.0f}\",end=\"\\t\")\n",
    "print(f\"\\t\\t\\tMean Cholestrol level :{chol_mu[1]:.0f}\")\n",
    "\n",
    "fig,axs = plt.subplots(1,2,figsize=(8,3))\n",
    "axs[0].hist(data[data.prevalentHyp==0].totChol,bins=15)\n",
    "axs[0].set_title(\"Prevalent Hypertension=0\")\n",
    "\n",
    "axs[1].hist(data[data.prevalentHyp==1].totChol,bins=15)\n",
    "axs[1].set_title(\"Prevalent Hypertension=1\")\n"
   ]
  },
  {
   "cell_type": "code",
   "execution_count": 22,
   "id": "a358f6e5",
   "metadata": {
    "execution": {
     "iopub.execute_input": "2024-07-09T21:59:50.686977Z",
     "iopub.status.busy": "2024-07-09T21:59:50.686451Z",
     "iopub.status.idle": "2024-07-09T21:59:50.696053Z",
     "shell.execute_reply": "2024-07-09T21:59:50.694683Z"
    },
    "papermill": {
     "duration": 0.032606,
     "end_time": "2024-07-09T21:59:50.698557",
     "exception": false,
     "start_time": "2024-07-09T21:59:50.665951",
     "status": "completed"
    },
    "tags": []
   },
   "outputs": [],
   "source": [
    "data.loc[:,\"age_group\"] = data.age.apply(lambda s: \"30 to 40\" if 30<=s<=40 else \"40 to 50\" if 40<=s<=50 else \"50 to 60\" if 50<=s<=60 else \"60 to 70\" if 60<=s<=70 else \"Above 70\")"
   ]
  },
  {
   "cell_type": "code",
   "execution_count": 23,
   "id": "2aa91b3f",
   "metadata": {
    "execution": {
     "iopub.execute_input": "2024-07-09T21:59:50.736360Z",
     "iopub.status.busy": "2024-07-09T21:59:50.735956Z",
     "iopub.status.idle": "2024-07-09T21:59:50.747487Z",
     "shell.execute_reply": "2024-07-09T21:59:50.746413Z"
    },
    "papermill": {
     "duration": 0.033362,
     "end_time": "2024-07-09T21:59:50.750021",
     "exception": false,
     "start_time": "2024-07-09T21:59:50.716659",
     "status": "completed"
    },
    "tags": []
   },
   "outputs": [
    {
     "data": {
      "text/plain": [
       "age_group\n",
       "30 to 40    210.0\n",
       "40 to 50    230.0\n",
       "50 to 60    245.0\n",
       "60 to 70    245.0\n",
       "Name: totChol, dtype: float64"
      ]
     },
     "execution_count": 23,
     "metadata": {},
     "output_type": "execute_result"
    }
   ],
   "source": [
    "age_series = data.totChol.groupby(by=data.age_group).median()\n",
    "age_series"
   ]
  },
  {
   "cell_type": "code",
   "execution_count": 24,
   "id": "e1a42006",
   "metadata": {
    "execution": {
     "iopub.execute_input": "2024-07-09T21:59:50.789647Z",
     "iopub.status.busy": "2024-07-09T21:59:50.789267Z",
     "iopub.status.idle": "2024-07-09T21:59:50.798431Z",
     "shell.execute_reply": "2024-07-09T21:59:50.797334Z"
    },
    "papermill": {
     "duration": 0.031804,
     "end_time": "2024-07-09T21:59:50.800510",
     "exception": false,
     "start_time": "2024-07-09T21:59:50.768706",
     "status": "completed"
    },
    "tags": []
   },
   "outputs": [],
   "source": [
    "#Imputing the cholestroll null values based on age group\n",
    "\n",
    "data.loc[data.totChol.isnull(),[\"totChol\"]] = data.loc[data.totChol.isnull(),\"age_group\"].apply(lambda c: age_series[c])"
   ]
  },
  {
   "cell_type": "code",
   "execution_count": 25,
   "id": "40b4c350",
   "metadata": {
    "execution": {
     "iopub.execute_input": "2024-07-09T21:59:50.839711Z",
     "iopub.status.busy": "2024-07-09T21:59:50.839267Z",
     "iopub.status.idle": "2024-07-09T21:59:50.845363Z",
     "shell.execute_reply": "2024-07-09T21:59:50.844298Z"
    },
    "papermill": {
     "duration": 0.028739,
     "end_time": "2024-07-09T21:59:50.847636",
     "exception": false,
     "start_time": "2024-07-09T21:59:50.818897",
     "status": "completed"
    },
    "tags": []
   },
   "outputs": [],
   "source": [
    "data = data.iloc[:,0:-1]"
   ]
  },
  {
   "cell_type": "markdown",
   "id": "6465affd",
   "metadata": {
    "papermill": {
     "duration": 0.018103,
     "end_time": "2024-07-09T21:59:50.883946",
     "exception": false,
     "start_time": "2024-07-09T21:59:50.865843",
     "status": "completed"
    },
    "tags": []
   },
   "source": [
    "***HEART RATE***"
   ]
  },
  {
   "cell_type": "code",
   "execution_count": 26,
   "id": "30330c42",
   "metadata": {
    "execution": {
     "iopub.execute_input": "2024-07-09T21:59:50.922217Z",
     "iopub.status.busy": "2024-07-09T21:59:50.921795Z",
     "iopub.status.idle": "2024-07-09T21:59:50.928013Z",
     "shell.execute_reply": "2024-07-09T21:59:50.927122Z"
    },
    "papermill": {
     "duration": 0.027985,
     "end_time": "2024-07-09T21:59:50.930211",
     "exception": false,
     "start_time": "2024-07-09T21:59:50.902226",
     "status": "completed"
    },
    "tags": []
   },
   "outputs": [],
   "source": [
    "data = data[data.heartRate.notnull()]"
   ]
  },
  {
   "cell_type": "code",
   "execution_count": 27,
   "id": "529f9ba6",
   "metadata": {
    "execution": {
     "iopub.execute_input": "2024-07-09T21:59:50.969383Z",
     "iopub.status.busy": "2024-07-09T21:59:50.968215Z",
     "iopub.status.idle": "2024-07-09T21:59:50.977354Z",
     "shell.execute_reply": "2024-07-09T21:59:50.976233Z"
    },
    "papermill": {
     "duration": 0.031076,
     "end_time": "2024-07-09T21:59:50.979533",
     "exception": false,
     "start_time": "2024-07-09T21:59:50.948457",
     "status": "completed"
    },
    "tags": []
   },
   "outputs": [
    {
     "data": {
      "text/plain": [
       "male                 0\n",
       "age                  0\n",
       "education          105\n",
       "currentSmoker        0\n",
       "cigsPerDay           0\n",
       "BPMeds               0\n",
       "prevalentStroke      0\n",
       "prevalentHyp         0\n",
       "diabetes             0\n",
       "totChol              0\n",
       "sysBP                0\n",
       "diaBP                0\n",
       "BMI                  0\n",
       "heartRate            0\n",
       "glucose              0\n",
       "TenYearCHD           0\n",
       "dtype: int64"
      ]
     },
     "execution_count": 27,
     "metadata": {},
     "output_type": "execute_result"
    }
   ],
   "source": [
    "data.isnull().sum()"
   ]
  },
  {
   "cell_type": "markdown",
   "id": "75131aa4",
   "metadata": {
    "papermill": {
     "duration": 0.018154,
     "end_time": "2024-07-09T21:59:51.016140",
     "exception": false,
     "start_time": "2024-07-09T21:59:50.997986",
     "status": "completed"
    },
    "tags": []
   },
   "source": [
    "### TRAIN AND TEST SPLIT"
   ]
  },
  {
   "cell_type": "code",
   "execution_count": 28,
   "id": "5d09483e",
   "metadata": {
    "execution": {
     "iopub.execute_input": "2024-07-09T21:59:51.054792Z",
     "iopub.status.busy": "2024-07-09T21:59:51.054375Z",
     "iopub.status.idle": "2024-07-09T21:59:51.063836Z",
     "shell.execute_reply": "2024-07-09T21:59:51.062867Z"
    },
    "papermill": {
     "duration": 0.031871,
     "end_time": "2024-07-09T21:59:51.066407",
     "exception": false,
     "start_time": "2024-07-09T21:59:51.034536",
     "status": "completed"
    },
    "tags": []
   },
   "outputs": [],
   "source": [
    "y = data.TenYearCHD\n",
    "x = data.drop([\"education\",\"TenYearCHD\"],axis=1)\n",
    "\n",
    "train_x, test_x, train_y, test_y = train_test_split(x,y,test_size=0.2)"
   ]
  },
  {
   "cell_type": "code",
   "execution_count": 29,
   "id": "76a3e409",
   "metadata": {
    "execution": {
     "iopub.execute_input": "2024-07-09T21:59:51.104901Z",
     "iopub.status.busy": "2024-07-09T21:59:51.104504Z",
     "iopub.status.idle": "2024-07-09T21:59:51.110746Z",
     "shell.execute_reply": "2024-07-09T21:59:51.109558Z"
    },
    "papermill": {
     "duration": 0.028295,
     "end_time": "2024-07-09T21:59:51.112969",
     "exception": false,
     "start_time": "2024-07-09T21:59:51.084674",
     "status": "completed"
    },
    "tags": []
   },
   "outputs": [
    {
     "name": "stdout",
     "output_type": "stream",
     "text": [
      "(3347, 14)\n",
      "(3347,)\n",
      "(837, 14)\n",
      "(837,)\n"
     ]
    }
   ],
   "source": [
    "print(train_x.shape)\n",
    "print(train_y.shape)\n",
    "print(test_x.shape)\n",
    "print(test_y.shape)"
   ]
  },
  {
   "cell_type": "markdown",
   "id": "30adf052",
   "metadata": {
    "papermill": {
     "duration": 0.018177,
     "end_time": "2024-07-09T21:59:51.149577",
     "exception": false,
     "start_time": "2024-07-09T21:59:51.131400",
     "status": "completed"
    },
    "tags": []
   },
   "source": [
    "### FEATURE SCALING"
   ]
  },
  {
   "cell_type": "code",
   "execution_count": 30,
   "id": "32dd0fb7",
   "metadata": {
    "execution": {
     "iopub.execute_input": "2024-07-09T21:59:51.191420Z",
     "iopub.status.busy": "2024-07-09T21:59:51.190998Z",
     "iopub.status.idle": "2024-07-09T21:59:51.203068Z",
     "shell.execute_reply": "2024-07-09T21:59:51.201955Z"
    },
    "papermill": {
     "duration": 0.037606,
     "end_time": "2024-07-09T21:59:51.205635",
     "exception": false,
     "start_time": "2024-07-09T21:59:51.168029",
     "status": "completed"
    },
    "tags": []
   },
   "outputs": [],
   "source": [
    "# Feature scaling\n",
    "from sklearn.preprocessing import StandardScaler\n",
    "\n",
    "scaler = StandardScaler()\n",
    "train_x_scaled = scaler.fit_transform(train_x)\n",
    "test_x_scaled = scaler.transform(test_x)"
   ]
  },
  {
   "cell_type": "code",
   "execution_count": 31,
   "id": "8b740112",
   "metadata": {
    "execution": {
     "iopub.execute_input": "2024-07-09T21:59:51.244286Z",
     "iopub.status.busy": "2024-07-09T21:59:51.243872Z",
     "iopub.status.idle": "2024-07-09T21:59:51.249156Z",
     "shell.execute_reply": "2024-07-09T21:59:51.248017Z"
    },
    "papermill": {
     "duration": 0.027394,
     "end_time": "2024-07-09T21:59:51.251364",
     "exception": false,
     "start_time": "2024-07-09T21:59:51.223970",
     "status": "completed"
    },
    "tags": []
   },
   "outputs": [],
   "source": [
    "train_y = np.array(train_y) \n",
    "test_y = np.array(test_y) "
   ]
  },
  {
   "cell_type": "markdown",
   "id": "d652e1f1",
   "metadata": {
    "papermill": {
     "duration": 0.018259,
     "end_time": "2024-07-09T21:59:51.288125",
     "exception": false,
     "start_time": "2024-07-09T21:59:51.269866",
     "status": "completed"
    },
    "tags": []
   },
   "source": [
    "### LOGISTIC REGRESION USING GRADIENT DESCENT"
   ]
  },
  {
   "cell_type": "markdown",
   "id": "57e59c5a",
   "metadata": {
    "papermill": {
     "duration": 0.018167,
     "end_time": "2024-07-09T21:59:51.324636",
     "exception": false,
     "start_time": "2024-07-09T21:59:51.306469",
     "status": "completed"
    },
    "tags": []
   },
   "source": [
    "$$\n",
    "\\begin{align}\n",
    "  f_{\\mathbf{w},b}(\\mathbf{x^{(i)}}) &= g(z^{(i)})\\tag{3} \\\\\n",
    "  z^{(i)} &= \\mathbf{w} \\cdot \\mathbf{x}^{(i)}+ b\\tag{4} \\\\\n",
    "  g(z^{(i)}) &= \\frac{1}{1+e^{-z^{(i)}}}\\tag{5} \n",
    "\\end{align}\n",
    "$$"
   ]
  },
  {
   "cell_type": "code",
   "execution_count": 32,
   "id": "0b3cd018",
   "metadata": {
    "execution": {
     "iopub.execute_input": "2024-07-09T21:59:51.363596Z",
     "iopub.status.busy": "2024-07-09T21:59:51.363182Z",
     "iopub.status.idle": "2024-07-09T21:59:51.368777Z",
     "shell.execute_reply": "2024-07-09T21:59:51.367627Z"
    },
    "papermill": {
     "duration": 0.027995,
     "end_time": "2024-07-09T21:59:51.371242",
     "exception": false,
     "start_time": "2024-07-09T21:59:51.343247",
     "status": "completed"
    },
    "tags": []
   },
   "outputs": [],
   "source": [
    "def sigmoid(z):\n",
    "    g_z = 1/(1+np.exp(-z))\n",
    "    return g_z"
   ]
  },
  {
   "cell_type": "markdown",
   "id": "3e5c4cbe",
   "metadata": {
    "papermill": {
     "duration": 0.019138,
     "end_time": "2024-07-09T21:59:51.409555",
     "exception": false,
     "start_time": "2024-07-09T21:59:51.390417",
     "status": "completed"
    },
    "tags": []
   },
   "source": [
    "## Logistic Gradient Descent\n",
    "\n",
    "Gradient descent algorithm utilizes the gradient calculation:\n",
    "$$\\begin{align*}\n",
    "&\\text{repeat until convergence:} \\; \\lbrace \\\\\n",
    "&  \\; \\; \\;w_j = w_j -  \\alpha \\frac{\\partial J(\\mathbf{w},b)}{\\partial w_j} \\tag{1}  \\; & \\text{for j := 0..n-1} \\\\ \n",
    "&  \\; \\; \\;  \\; \\;b = b -  \\alpha \\frac{\\partial J(\\mathbf{w},b)}{\\partial b} \\\\\n",
    "&\\rbrace\n",
    "\\end{align*}$$\n",
    "\n",
    "Where each iteration performs simultaneous updates on $w_j$ for all $j$, where\n",
    "$$\\begin{align*}\n",
    "\\frac{\\partial J(\\mathbf{w},b)}{\\partial w_j}  &= \\frac{1}{m} \\sum\\limits_{i = 0}^{m-1} (f_{\\mathbf{w},b}(\\mathbf{x}^{(i)}) - y^{(i)})x_{j}^{(i)} \\tag{2} \\\\\n",
    "\\frac{\\partial J(\\mathbf{w},b)}{\\partial b}  &= \\frac{1}{m} \\sum\\limits_{i = 0}^{m-1} (f_{\\mathbf{w},b}(\\mathbf{x}^{(i)}) - y^{(i)}) \\tag{3} \n",
    "\\end{align*}$$"
   ]
  },
  {
   "cell_type": "code",
   "execution_count": 33,
   "id": "15bff958",
   "metadata": {
    "execution": {
     "iopub.execute_input": "2024-07-09T21:59:51.448560Z",
     "iopub.status.busy": "2024-07-09T21:59:51.447640Z",
     "iopub.status.idle": "2024-07-09T21:59:51.454844Z",
     "shell.execute_reply": "2024-07-09T21:59:51.453783Z"
    },
    "papermill": {
     "duration": 0.029265,
     "end_time": "2024-07-09T21:59:51.457121",
     "exception": false,
     "start_time": "2024-07-09T21:59:51.427856",
     "status": "completed"
    },
    "tags": []
   },
   "outputs": [],
   "source": [
    "def compute_gradient_logistic(x,y,w,b):\n",
    "    \n",
    "    # x: (m,n)\n",
    "    # y: (m,)\n",
    "    # w: (n,)\n",
    "    \n",
    "    m,n = x.shape \n",
    "    #m: number of data points\n",
    "    #n: number of features\n",
    "        \n",
    "    dw = np.zeros((n,)) #derivative with respect to each data point \n",
    "    db = 0\n",
    "    for i in range(m): #for each data point\n",
    "        zi = np.dot(x[i,:],w)+b \n",
    "        f_xi = sigmoid(zi) #calculate probability\n",
    "        err_i = (f_xi - y[i])\n",
    "        db = db + err_i \n",
    "\n",
    "        for j in range(n):\n",
    "            dw[j,] =  dw[j,] + err_i * x[i,j]\n",
    "    \n",
    "    dJ_w = dw/m\n",
    "    dJ_b = db/m\n",
    "    \n",
    "    return dJ_b, dJ_w"
   ]
  },
  {
   "cell_type": "code",
   "execution_count": 34,
   "id": "43f9317c",
   "metadata": {
    "execution": {
     "iopub.execute_input": "2024-07-09T21:59:51.496283Z",
     "iopub.status.busy": "2024-07-09T21:59:51.495830Z",
     "iopub.status.idle": "2024-07-09T21:59:51.503563Z",
     "shell.execute_reply": "2024-07-09T21:59:51.502501Z"
    },
    "papermill": {
     "duration": 0.03007,
     "end_time": "2024-07-09T21:59:51.505943",
     "exception": false,
     "start_time": "2024-07-09T21:59:51.475873",
     "status": "completed"
    },
    "tags": []
   },
   "outputs": [
    {
     "name": "stdout",
     "output_type": "stream",
     "text": [
      "dj_db: 0.49861806546328574\n",
      "dj_dw: [0.498333393278696, 0.49883942983996693]\n"
     ]
    }
   ],
   "source": [
    "X_tmp = np.array([[0.5, 1.5], [1,1], [1.5, 0.5], [3, 0.5], [2, 2], [1, 2.5]])\n",
    "y_tmp = np.array([0, 0, 0, 1, 1, 1])\n",
    "w_tmp = np.array([2.,3.])\n",
    "b_tmp = 1.\n",
    "dj_db_tmp, dj_dw_tmp = compute_gradient_logistic(X_tmp, y_tmp, w_tmp, b_tmp)\n",
    "print(f\"dj_db: {dj_db_tmp}\" )\n",
    "print(f\"dj_dw: {dj_dw_tmp.tolist()}\" )"
   ]
  },
  {
   "cell_type": "markdown",
   "id": "02a0c40c",
   "metadata": {
    "papermill": {
     "duration": 0.018347,
     "end_time": "2024-07-09T21:59:51.542718",
     "exception": false,
     "start_time": "2024-07-09T21:59:51.524371",
     "status": "completed"
    },
    "tags": []
   },
   "source": [
    "**Expected output**\n",
    "``` \n",
    "dj_db: 0.49861806546328574\n",
    "dj_dw: [0.498333393278696, 0.49883942983996693]\n",
    "```"
   ]
  },
  {
   "cell_type": "code",
   "execution_count": 35,
   "id": "b7f94a03",
   "metadata": {
    "execution": {
     "iopub.execute_input": "2024-07-09T21:59:51.581445Z",
     "iopub.status.busy": "2024-07-09T21:59:51.581018Z",
     "iopub.status.idle": "2024-07-09T21:59:51.629854Z",
     "shell.execute_reply": "2024-07-09T21:59:51.628344Z"
    },
    "papermill": {
     "duration": 0.071859,
     "end_time": "2024-07-09T21:59:51.632968",
     "exception": false,
     "start_time": "2024-07-09T21:59:51.561109",
     "status": "completed"
    },
    "tags": []
   },
   "outputs": [
    {
     "name": "stdout",
     "output_type": "stream",
     "text": [
      "dj_db: 0.5771894420897902\n",
      "dj_dw: [-0.03352715733409372, -0.08299985265555111, -0.0056327795731325415, -0.01842290275491874, -0.03309544433296917, -0.02416484820249621, -0.0633480689365751, -0.034524702629505966, -0.02704510862551829, -0.07748030458550505, -0.05176269346790139, -0.02707566451957844, -0.00831253874617692, -0.04304192822422862]\n"
     ]
    }
   ],
   "source": [
    "w_tmp = np.zeros(train_x.shape[1])\n",
    "b_tmp = 1.\n",
    "dj_db_tmp, dj_dw_tmp = compute_gradient_logistic(train_x_scaled, train_y, w_tmp, b_tmp)\n",
    "print(f\"dj_db: {dj_db_tmp}\" )\n",
    "print(f\"dj_dw: {dj_dw_tmp.tolist()}\" )"
   ]
  },
  {
   "cell_type": "markdown",
   "id": "37ccc082",
   "metadata": {
    "papermill": {
     "duration": 0.018962,
     "end_time": "2024-07-09T21:59:51.677982",
     "exception": false,
     "start_time": "2024-07-09T21:59:51.659020",
     "status": "completed"
    },
    "tags": []
   },
   "source": [
    "## Cost function\n",
    "\n",
    "For logistic regression, the cost function is of the form \n",
    "\n",
    "$$ J(\\mathbf{w},b) = \\frac{1}{m} \\sum_{i=0}^{m-1} \\left[ loss(f_{\\mathbf{w},b}(\\mathbf{x}^{(i)}), y^{(i)}) \\right] \\tag{1}$$\n",
    "\n",
    "where\n",
    "* $loss(f_{\\mathbf{w},b}(\\mathbf{x}^{(i)}), y^{(i)})$ is the cost for a single data point, which is:\n",
    "\n",
    "    $$loss(f_{\\mathbf{w},b}(\\mathbf{x}^{(i)}), y^{(i)}) = -y^{(i)} \\log\\left(f_{\\mathbf{w},b}\\left( \\mathbf{x}^{(i)} \\right) \\right) - \\left( 1 - y^{(i)}\\right) \\log \\left( 1 - f_{\\mathbf{w},b}\\left( \\mathbf{x}^{(i)} \\right) \\right) \\tag{2}$$\n",
    "    \n",
    "*  where m is the number of training examples in the data set and:"
   ]
  },
  {
   "cell_type": "code",
   "execution_count": 36,
   "id": "72a85dfd",
   "metadata": {
    "execution": {
     "iopub.execute_input": "2024-07-09T21:59:51.720691Z",
     "iopub.status.busy": "2024-07-09T21:59:51.720259Z",
     "iopub.status.idle": "2024-07-09T21:59:51.727202Z",
     "shell.execute_reply": "2024-07-09T21:59:51.726189Z"
    },
    "papermill": {
     "duration": 0.030154,
     "end_time": "2024-07-09T21:59:51.729341",
     "exception": false,
     "start_time": "2024-07-09T21:59:51.699187",
     "status": "completed"
    },
    "tags": []
   },
   "outputs": [],
   "source": [
    "def compute_cost_logistic(x,y,w,b):\n",
    "    \n",
    "    m = x.shape[0]\n",
    "    loss = 0\n",
    "    for i in range(m):\n",
    "        zi = np.dot(x[i,],w)+b\n",
    "        f_xi = sigmoid(zi)      \n",
    "        loss += (y[i] * np.log(f_xi))  +  ((1-y[i]) * np.log(1-f_xi))\n",
    "        \n",
    "    cost = -(1/m)*loss\n",
    "    \n",
    "    return cost"
   ]
  },
  {
   "cell_type": "code",
   "execution_count": 37,
   "id": "834d3720",
   "metadata": {
    "execution": {
     "iopub.execute_input": "2024-07-09T21:59:51.769112Z",
     "iopub.status.busy": "2024-07-09T21:59:51.768725Z",
     "iopub.status.idle": "2024-07-09T21:59:51.777099Z",
     "shell.execute_reply": "2024-07-09T21:59:51.775984Z"
    },
    "papermill": {
     "duration": 0.031589,
     "end_time": "2024-07-09T21:59:51.779589",
     "exception": false,
     "start_time": "2024-07-09T21:59:51.748000",
     "status": "completed"
    },
    "tags": []
   },
   "outputs": [
    {
     "name": "stdout",
     "output_type": "stream",
     "text": [
      "0.3668667864055174\n"
     ]
    }
   ],
   "source": [
    "X_tr = np.array([[0.5, 1.5], [1,1], [1.5, 0.5], [3, 0.5], [2, 2], [1, 2.5]])  #(m,n)\n",
    "y_tr = np.array([0, 0, 0, 1, 1, 1])                                           #(m,)\n",
    "w_tmp = np.array([1,1])\n",
    "b_tmp = -3\n",
    "print(compute_cost_logistic(X_tr, y_tr, w_tmp, b_tmp))"
   ]
  },
  {
   "cell_type": "markdown",
   "id": "5104c919",
   "metadata": {
    "papermill": {
     "duration": 0.018808,
     "end_time": "2024-07-09T21:59:51.818011",
     "exception": false,
     "start_time": "2024-07-09T21:59:51.799203",
     "status": "completed"
    },
    "tags": []
   },
   "source": [
    "**Expected output**: 0.3668667864055175"
   ]
  },
  {
   "cell_type": "code",
   "execution_count": 38,
   "id": "6db38803",
   "metadata": {
    "execution": {
     "iopub.execute_input": "2024-07-09T21:59:51.857128Z",
     "iopub.status.busy": "2024-07-09T21:59:51.856724Z",
     "iopub.status.idle": "2024-07-09T21:59:51.864233Z",
     "shell.execute_reply": "2024-07-09T21:59:51.863133Z"
    },
    "papermill": {
     "duration": 0.029702,
     "end_time": "2024-07-09T21:59:51.866657",
     "exception": false,
     "start_time": "2024-07-09T21:59:51.836955",
     "status": "completed"
    },
    "tags": []
   },
   "outputs": [],
   "source": [
    "def gradient_descent(x, y, w_in, b_in, alpha, num_iters):\n",
    "    \n",
    "    J = []\n",
    "    \n",
    "    w = copy.deepcopy(w_in)  #avoid modifying global w within function\n",
    "    b = b_in\n",
    "    \n",
    "    for i in range(num_iters):\n",
    "        dJ_b, dJ_w = compute_gradient_logistic(x,y,w,b)\n",
    "        w = w - alpha * dJ_w\n",
    "        b = b - alpha * dJ_b\n",
    "\n",
    "        if i % math.ceil(num_iters / 10) == 0:\n",
    "            cost = compute_cost_logistic(x,y,w,b)\n",
    "            print(f\"Iteration: {i} Cost: {cost}\") \n",
    "            J = np.append(J,cost)\n",
    "    \n",
    "    cost = compute_cost_logistic(x,y,w,b)         \n",
    "    J = np.append(J,cost)\n",
    "            \n",
    "    return w,b,J"
   ]
  },
  {
   "cell_type": "code",
   "execution_count": 39,
   "id": "2780aac8",
   "metadata": {
    "execution": {
     "iopub.execute_input": "2024-07-09T21:59:51.906714Z",
     "iopub.status.busy": "2024-07-09T21:59:51.906304Z",
     "iopub.status.idle": "2024-07-09T22:05:50.844624Z",
     "shell.execute_reply": "2024-07-09T22:05:50.843505Z"
    },
    "papermill": {
     "duration": 358.960921,
     "end_time": "2024-07-09T22:05:50.847282",
     "exception": false,
     "start_time": "2024-07-09T21:59:51.886361",
     "status": "completed"
    },
    "tags": []
   },
   "outputs": [
    {
     "name": "stdout",
     "output_type": "stream",
     "text": [
      "Iteration: 0 Cost: 0.6786738899929791\n",
      "Iteration: 1000 Cost: 0.3814079007037733\n",
      "Iteration: 2000 Cost: 0.38140397367285445\n",
      "Iteration: 3000 Cost: 0.3814039486677842\n",
      "Iteration: 4000 Cost: 0.3814039484951363\n",
      "Iteration: 5000 Cost: 0.38140394849389003\n",
      "Iteration: 6000 Cost: 0.38140394849388215\n",
      "Iteration: 7000 Cost: 0.3814039484938819\n",
      "Iteration: 8000 Cost: 0.38140394849388115\n",
      "Iteration: 9000 Cost: 0.38140394849388215\n"
     ]
    }
   ],
   "source": [
    "w_tmp  = np.zeros(train_x.shape[1])\n",
    "b_tmp  = 0.\n",
    "alph = 0.1\n",
    "iters = 10000\n",
    "\n",
    "w_out, b_out, _ = gradient_descent(train_x_scaled, train_y, w_tmp, b_tmp, alph, iters) "
   ]
  },
  {
   "cell_type": "code",
   "execution_count": 40,
   "id": "74ca60b8",
   "metadata": {
    "execution": {
     "iopub.execute_input": "2024-07-09T22:05:50.888454Z",
     "iopub.status.busy": "2024-07-09T22:05:50.888045Z",
     "iopub.status.idle": "2024-07-09T22:05:50.894198Z",
     "shell.execute_reply": "2024-07-09T22:05:50.893130Z"
    },
    "papermill": {
     "duration": 0.029647,
     "end_time": "2024-07-09T22:05:50.896537",
     "exception": false,
     "start_time": "2024-07-09T22:05:50.866890",
     "status": "completed"
    },
    "tags": []
   },
   "outputs": [
    {
     "name": "stdout",
     "output_type": "stream",
     "text": [
      "w from gradient descent:  [ 0.25803847  0.54665572  0.00447369  0.24639885  0.05254608  0.08389798\n",
      "  0.10480186  0.03237646  0.05127127  0.32302316 -0.06071392  0.01138815\n",
      " -0.02016167  0.14333076]\n",
      "b from gradient descent:  -1.956777700707389\n"
     ]
    }
   ],
   "source": [
    "print(\"w from gradient descent: \",w_out)\n",
    "print(\"b from gradient descent: \",b_out)"
   ]
  },
  {
   "cell_type": "markdown",
   "id": "980876fa",
   "metadata": {
    "papermill": {
     "duration": 0.019172,
     "end_time": "2024-07-09T22:05:50.935656",
     "exception": false,
     "start_time": "2024-07-09T22:05:50.916484",
     "status": "completed"
    },
    "tags": []
   },
   "source": [
    "*Comparison*   \n",
    "Solution from scikit logistic model\n",
    "\n",
    "W: [[ 0.23628162  0.5790852   0.09208339  0.20734428  0.06365865  0.07116424\n",
    "   0.05897178 -0.0259253   0.03761975  0.28268684  0.04520515 -0.01132371\n",
    "  -0.01412088  0.19872628]]   \n",
    "b: [-1.9958399]"
   ]
  },
  {
   "cell_type": "code",
   "execution_count": 41,
   "id": "0817a9b8",
   "metadata": {
    "execution": {
     "iopub.execute_input": "2024-07-09T22:05:50.977038Z",
     "iopub.status.busy": "2024-07-09T22:05:50.976218Z",
     "iopub.status.idle": "2024-07-09T22:05:50.982329Z",
     "shell.execute_reply": "2024-07-09T22:05:50.981241Z"
    },
    "papermill": {
     "duration": 0.029114,
     "end_time": "2024-07-09T22:05:50.984574",
     "exception": false,
     "start_time": "2024-07-09T22:05:50.955460",
     "status": "completed"
    },
    "tags": []
   },
   "outputs": [],
   "source": [
    "def predict(w,b,x):\n",
    "    f_x = np.dot(x,w)+b\n",
    "    y_pred = np.zeros(len(x))\n",
    "    for i in range(len(f_x)):\n",
    "        if f_x[i] >= 0.5:\n",
    "            y_pred[i] = 1\n",
    "        else:\n",
    "            y_pred[i] = 0\n",
    "    return y_pred"
   ]
  },
  {
   "cell_type": "code",
   "execution_count": 42,
   "id": "6a3f059a",
   "metadata": {
    "execution": {
     "iopub.execute_input": "2024-07-09T22:05:51.024851Z",
     "iopub.status.busy": "2024-07-09T22:05:51.024456Z",
     "iopub.status.idle": "2024-07-09T22:05:51.032351Z",
     "shell.execute_reply": "2024-07-09T22:05:51.031231Z"
    },
    "papermill": {
     "duration": 0.036709,
     "end_time": "2024-07-09T22:05:51.040594",
     "exception": false,
     "start_time": "2024-07-09T22:05:51.003885",
     "status": "completed"
    },
    "tags": []
   },
   "outputs": [
    {
     "name": "stdout",
     "output_type": "stream",
     "text": [
      "Test error:  0.13620071684587814\n"
     ]
    }
   ],
   "source": [
    "y_pred = predict(w_out,b_out,test_x_scaled)\n",
    "test_err = np.sum((test_y>0.0) != (y_pred>0.0))\n",
    "print(\"Test error: \",test_err/len(test_x))"
   ]
  },
  {
   "cell_type": "markdown",
   "id": "8a1cc059",
   "metadata": {
    "papermill": {
     "duration": 0.03322,
     "end_time": "2024-07-09T22:05:51.106265",
     "exception": false,
     "start_time": "2024-07-09T22:05:51.073045",
     "status": "completed"
    },
    "tags": []
   },
   "source": [
    "*Comparison*   \n",
    "Scikit logistic model\n",
    "Test error:  0.14575866188769415"
   ]
  },
  {
   "cell_type": "code",
   "execution_count": 43,
   "id": "4f73f45b",
   "metadata": {
    "execution": {
     "iopub.execute_input": "2024-07-09T22:05:51.164988Z",
     "iopub.status.busy": "2024-07-09T22:05:51.164593Z",
     "iopub.status.idle": "2024-07-09T22:05:51.454694Z",
     "shell.execute_reply": "2024-07-09T22:05:51.453601Z"
    },
    "papermill": {
     "duration": 0.31832,
     "end_time": "2024-07-09T22:05:51.457018",
     "exception": false,
     "start_time": "2024-07-09T22:05:51.138698",
     "status": "completed"
    },
    "tags": []
   },
   "outputs": [
    {
     "data": {
      "text/plain": [
       "<sklearn.metrics._plot.confusion_matrix.ConfusionMatrixDisplay at 0x7b3db88deb60>"
      ]
     },
     "execution_count": 43,
     "metadata": {},
     "output_type": "execute_result"
    },
    {
     "data": {
      "image/png": "[encoded data removed]",
      "text/plain": [
       "<Figure size 640x480 with 2 Axes>"
      ]
     },
     "metadata": {},
     "output_type": "display_data"
    }
   ],
   "source": [
    "ConfusionMatrixDisplay.from_predictions(test_y,y_pred)"
   ]
  },
  {
   "cell_type": "code",
   "execution_count": 44,
   "id": "e43ea42e",
   "metadata": {
    "execution": {
     "iopub.execute_input": "2024-07-09T22:05:51.498995Z",
     "iopub.status.busy": "2024-07-09T22:05:51.498204Z",
     "iopub.status.idle": "2024-07-09T22:05:51.503766Z",
     "shell.execute_reply": "2024-07-09T22:05:51.502660Z"
    },
    "papermill": {
     "duration": 0.029143,
     "end_time": "2024-07-09T22:05:51.506111",
     "exception": false,
     "start_time": "2024-07-09T22:05:51.476968",
     "status": "completed"
    },
    "tags": []
   },
   "outputs": [
    {
     "name": "stdout",
     "output_type": "stream",
     "text": [
      "Model accuracy: 85.3%\n"
     ]
    }
   ],
   "source": [
    "print(f\"Model accuracy: {(709+5)/len(test_x_scaled)*100:.1f}%\")"
   ]
  },
  {
   "cell_type": "code",
   "execution_count": 45,
   "id": "1b586a03",
   "metadata": {
    "execution": {
     "iopub.execute_input": "2024-07-09T22:05:51.549067Z",
     "iopub.status.busy": "2024-07-09T22:05:51.548636Z",
     "iopub.status.idle": "2024-07-09T22:05:51.569738Z",
     "shell.execute_reply": "2024-07-09T22:05:51.567818Z"
    },
    "papermill": {
     "duration": 0.045287,
     "end_time": "2024-07-09T22:05:51.572072",
     "exception": false,
     "start_time": "2024-07-09T22:05:51.526785",
     "status": "completed"
    },
    "tags": []
   },
   "outputs": [
    {
     "name": "stdout",
     "output_type": "stream",
     "text": [
      "Cost: 0.3648736156538748\n"
     ]
    }
   ],
   "source": [
    "cost = compute_cost_logistic(test_x_scaled,test_y,w_out,b_out) \n",
    "print(\"Cost:\", cost)"
   ]
  },
  {
   "cell_type": "markdown",
   "id": "0209abda",
   "metadata": {
    "papermill": {
     "duration": 0.020345,
     "end_time": "2024-07-09T22:05:51.613218",
     "exception": false,
     "start_time": "2024-07-09T22:05:51.592873",
     "status": "completed"
    },
    "tags": []
   },
   "source": [
    "*Comparison*     \n",
    "Scikit Logistiic model cost:  0.39274319"
   ]
  }
 ],
 "metadata": {
  "kaggle": {
   "accelerator": "none",
   "dataSources": [
    {
     "datasetId": 222487,
     "sourceId": 478477,
     "sourceType": "datasetVersion"
    }
   ],
   "dockerImageVersionId": 30732,
   "isGpuEnabled": false,
   "isInternetEnabled": true,
   "language": "python",
   "sourceType": "notebook"
  },
  "kernelspec": {
   "display_name": "Python 3",
   "language": "python",
   "name": "python3"
  },
  "language_info": {
   "codemirror_mode": {
    "name": "ipython",
    "version": 3
   },
   "file_extension": ".py",
   "mimetype": "text/x-python",
   "name": "python",
   "nbconvert_exporter": "python",
   "pygments_lexer": "ipython3",
   "version": "3.10.13"
  },
  "papermill": {
   "default_parameters": {},
   "duration": 371.598185,
   "end_time": "2024-07-09T22:05:52.256253",
   "environment_variables": {},
   "exception": null,
   "input_path": "__notebook__.ipynb",
   "output_path": "__notebook__.ipynb",
   "parameters": {},
   "start_time": "2024-07-09T21:59:40.658068",
   "version": "2.5.0"
  }
 },
 "nbformat": 4,
 "nbformat_minor": 5
}
